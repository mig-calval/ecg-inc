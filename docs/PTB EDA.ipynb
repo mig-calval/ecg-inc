{
 "cells": [
  {
   "cell_type": "markdown",
   "id": "f4592f85",
   "metadata": {},
   "source": [
    "# Analisis Exploratorio de PTB XL"
   ]
  },
  {
   "cell_type": "code",
   "execution_count": 1,
   "id": "aeb2934d",
   "metadata": {},
   "outputs": [],
   "source": [
    "import numpy as np\n",
    "import pandas as pd"
   ]
  },
  {
   "cell_type": "markdown",
   "id": "542779fb",
   "metadata": {},
   "source": [
    "### Vistazo a las tablas"
   ]
  },
  {
   "cell_type": "markdown",
   "id": "43d66a87",
   "metadata": {},
   "source": [
    "Cargamos el csv con la metadata referente a las 21837 imagenes:"
   ]
  },
  {
   "cell_type": "code",
   "execution_count": 3,
   "id": "6c136f1d",
   "metadata": {},
   "outputs": [],
   "source": [
    "data = pd.read_csv('../data/ptb-xl-a-large-publicly-available-electrocardiography-dataset-1.0.1/ptbxl_database.csv')"
   ]
  },
  {
   "cell_type": "code",
   "execution_count": 136,
   "id": "af8603f0",
   "metadata": {},
   "outputs": [
    {
     "name": "stdout",
     "output_type": "stream",
     "text": [
      "21837\n"
     ]
    },
    {
     "data": {
      "text/html": [
       "<div>\n",
       "<style scoped>\n",
       "    .dataframe tbody tr th:only-of-type {\n",
       "        vertical-align: middle;\n",
       "    }\n",
       "\n",
       "    .dataframe tbody tr th {\n",
       "        vertical-align: top;\n",
       "    }\n",
       "\n",
       "    .dataframe thead th {\n",
       "        text-align: right;\n",
       "    }\n",
       "</style>\n",
       "<table border=\"1\" class=\"dataframe\">\n",
       "  <thead>\n",
       "    <tr style=\"text-align: right;\">\n",
       "      <th></th>\n",
       "      <th>ecg_id</th>\n",
       "      <th>patient_id</th>\n",
       "      <th>age</th>\n",
       "      <th>sex</th>\n",
       "      <th>height</th>\n",
       "      <th>weight</th>\n",
       "      <th>nurse</th>\n",
       "      <th>site</th>\n",
       "      <th>device</th>\n",
       "      <th>recording_date</th>\n",
       "      <th>...</th>\n",
       "      <th>validated_by_human</th>\n",
       "      <th>baseline_drift</th>\n",
       "      <th>static_noise</th>\n",
       "      <th>burst_noise</th>\n",
       "      <th>electrodes_problems</th>\n",
       "      <th>extra_beats</th>\n",
       "      <th>pacemaker</th>\n",
       "      <th>strat_fold</th>\n",
       "      <th>filename_lr</th>\n",
       "      <th>filename_hr</th>\n",
       "    </tr>\n",
       "  </thead>\n",
       "  <tbody>\n",
       "    <tr>\n",
       "      <th>0</th>\n",
       "      <td>1</td>\n",
       "      <td>15709.0</td>\n",
       "      <td>56.0</td>\n",
       "      <td>1</td>\n",
       "      <td>NaN</td>\n",
       "      <td>63.0</td>\n",
       "      <td>2.0</td>\n",
       "      <td>0.0</td>\n",
       "      <td>CS-12   E</td>\n",
       "      <td>1984-11-09 09:17:34</td>\n",
       "      <td>...</td>\n",
       "      <td>True</td>\n",
       "      <td>NaN</td>\n",
       "      <td>, I-V1,</td>\n",
       "      <td>NaN</td>\n",
       "      <td>NaN</td>\n",
       "      <td>NaN</td>\n",
       "      <td>NaN</td>\n",
       "      <td>3</td>\n",
       "      <td>records100/00000/00001_lr</td>\n",
       "      <td>records500/00000/00001_hr</td>\n",
       "    </tr>\n",
       "    <tr>\n",
       "      <th>1</th>\n",
       "      <td>2</td>\n",
       "      <td>13243.0</td>\n",
       "      <td>19.0</td>\n",
       "      <td>0</td>\n",
       "      <td>NaN</td>\n",
       "      <td>70.0</td>\n",
       "      <td>2.0</td>\n",
       "      <td>0.0</td>\n",
       "      <td>CS-12   E</td>\n",
       "      <td>1984-11-14 12:55:37</td>\n",
       "      <td>...</td>\n",
       "      <td>True</td>\n",
       "      <td>NaN</td>\n",
       "      <td>NaN</td>\n",
       "      <td>NaN</td>\n",
       "      <td>NaN</td>\n",
       "      <td>NaN</td>\n",
       "      <td>NaN</td>\n",
       "      <td>2</td>\n",
       "      <td>records100/00000/00002_lr</td>\n",
       "      <td>records500/00000/00002_hr</td>\n",
       "    </tr>\n",
       "    <tr>\n",
       "      <th>2</th>\n",
       "      <td>3</td>\n",
       "      <td>20372.0</td>\n",
       "      <td>37.0</td>\n",
       "      <td>1</td>\n",
       "      <td>NaN</td>\n",
       "      <td>69.0</td>\n",
       "      <td>2.0</td>\n",
       "      <td>0.0</td>\n",
       "      <td>CS-12   E</td>\n",
       "      <td>1984-11-15 12:49:10</td>\n",
       "      <td>...</td>\n",
       "      <td>True</td>\n",
       "      <td>NaN</td>\n",
       "      <td>NaN</td>\n",
       "      <td>NaN</td>\n",
       "      <td>NaN</td>\n",
       "      <td>NaN</td>\n",
       "      <td>NaN</td>\n",
       "      <td>5</td>\n",
       "      <td>records100/00000/00003_lr</td>\n",
       "      <td>records500/00000/00003_hr</td>\n",
       "    </tr>\n",
       "    <tr>\n",
       "      <th>3</th>\n",
       "      <td>4</td>\n",
       "      <td>17014.0</td>\n",
       "      <td>24.0</td>\n",
       "      <td>0</td>\n",
       "      <td>NaN</td>\n",
       "      <td>82.0</td>\n",
       "      <td>2.0</td>\n",
       "      <td>0.0</td>\n",
       "      <td>CS-12   E</td>\n",
       "      <td>1984-11-15 13:44:57</td>\n",
       "      <td>...</td>\n",
       "      <td>True</td>\n",
       "      <td>, II,III,AVF</td>\n",
       "      <td>NaN</td>\n",
       "      <td>NaN</td>\n",
       "      <td>NaN</td>\n",
       "      <td>NaN</td>\n",
       "      <td>NaN</td>\n",
       "      <td>3</td>\n",
       "      <td>records100/00000/00004_lr</td>\n",
       "      <td>records500/00000/00004_hr</td>\n",
       "    </tr>\n",
       "    <tr>\n",
       "      <th>4</th>\n",
       "      <td>5</td>\n",
       "      <td>17448.0</td>\n",
       "      <td>19.0</td>\n",
       "      <td>1</td>\n",
       "      <td>NaN</td>\n",
       "      <td>70.0</td>\n",
       "      <td>2.0</td>\n",
       "      <td>0.0</td>\n",
       "      <td>CS-12   E</td>\n",
       "      <td>1984-11-17 10:43:15</td>\n",
       "      <td>...</td>\n",
       "      <td>True</td>\n",
       "      <td>, III,AVR,AVF</td>\n",
       "      <td>NaN</td>\n",
       "      <td>NaN</td>\n",
       "      <td>NaN</td>\n",
       "      <td>NaN</td>\n",
       "      <td>NaN</td>\n",
       "      <td>4</td>\n",
       "      <td>records100/00000/00005_lr</td>\n",
       "      <td>records500/00000/00005_hr</td>\n",
       "    </tr>\n",
       "  </tbody>\n",
       "</table>\n",
       "<p>5 rows × 28 columns</p>\n",
       "</div>"
      ],
      "text/plain": [
       "   ecg_id  patient_id   age  sex  height  weight  nurse  site     device  \\\n",
       "0       1     15709.0  56.0    1     NaN    63.0    2.0   0.0  CS-12   E   \n",
       "1       2     13243.0  19.0    0     NaN    70.0    2.0   0.0  CS-12   E   \n",
       "2       3     20372.0  37.0    1     NaN    69.0    2.0   0.0  CS-12   E   \n",
       "3       4     17014.0  24.0    0     NaN    82.0    2.0   0.0  CS-12   E   \n",
       "4       5     17448.0  19.0    1     NaN    70.0    2.0   0.0  CS-12   E   \n",
       "\n",
       "        recording_date  ... validated_by_human  baseline_drift static_noise  \\\n",
       "0  1984-11-09 09:17:34  ...               True             NaN    , I-V1,     \n",
       "1  1984-11-14 12:55:37  ...               True             NaN          NaN   \n",
       "2  1984-11-15 12:49:10  ...               True             NaN          NaN   \n",
       "3  1984-11-15 13:44:57  ...               True    , II,III,AVF          NaN   \n",
       "4  1984-11-17 10:43:15  ...               True   , III,AVR,AVF          NaN   \n",
       "\n",
       "  burst_noise electrodes_problems  extra_beats  pacemaker  strat_fold  \\\n",
       "0         NaN                 NaN          NaN        NaN           3   \n",
       "1         NaN                 NaN          NaN        NaN           2   \n",
       "2         NaN                 NaN          NaN        NaN           5   \n",
       "3         NaN                 NaN          NaN        NaN           3   \n",
       "4         NaN                 NaN          NaN        NaN           4   \n",
       "\n",
       "                 filename_lr                filename_hr  \n",
       "0  records100/00000/00001_lr  records500/00000/00001_hr  \n",
       "1  records100/00000/00002_lr  records500/00000/00002_hr  \n",
       "2  records100/00000/00003_lr  records500/00000/00003_hr  \n",
       "3  records100/00000/00004_lr  records500/00000/00004_hr  \n",
       "4  records100/00000/00005_lr  records500/00000/00005_hr  \n",
       "\n",
       "[5 rows x 28 columns]"
      ]
     },
     "execution_count": 136,
     "metadata": {},
     "output_type": "execute_result"
    }
   ],
   "source": [
    "print(len(data))\n",
    "data.head()"
   ]
  },
  {
   "cell_type": "markdown",
   "id": "deed2fdd",
   "metadata": {},
   "source": [
    "La columna _scp_codes_ contiene informacion respecto a la(s) [clase(s)](https://www.nature.com/articles/s41597-020-0495-6/tables/7) a la(s) que pertenece la imagen, y a la [forma](https://www.nature.com/articles/s41597-020-0495-6/tables/8), y al [ritmo](https://www.nature.com/articles/s41597-020-0495-6/tables/9) de las señales.\n",
    "\n",
    "Al momento aun no sabemos por que hay valores numericos en los diccionarios. Por ejemplo, en el indice 0 vs 1, ¿qué implica que NORM tenga un valor de 100.0 en el primero y de 80.0 en el segundo? O, ¿por qué en el primero los valores de LVOLT y de SR son 0.0 y 0.0? Por el momento solo nos fijaremos en el texto y no en el valor numerico."
   ]
  },
  {
   "cell_type": "code",
   "execution_count": 141,
   "id": "eb9e67ba",
   "metadata": {},
   "outputs": [
    {
     "data": {
      "text/plain": [
       "0    {'NORM': 100.0, 'LVOLT': 0.0, 'SR': 0.0}\n",
       "1                {'NORM': 80.0, 'SBRAD': 0.0}\n",
       "2                  {'NORM': 100.0, 'SR': 0.0}\n",
       "3                  {'NORM': 100.0, 'SR': 0.0}\n",
       "4                  {'NORM': 100.0, 'SR': 0.0}\n",
       "Name: scp_codes, dtype: object"
      ]
     },
     "execution_count": 141,
     "metadata": {},
     "output_type": "execute_result"
    }
   ],
   "source": [
    "data['scp_codes'].head()"
   ]
  },
  {
   "cell_type": "markdown",
   "id": "e3b7b4bc",
   "metadata": {},
   "source": [
    "Para ser mas especificos, los codigos son de las subsubclases. En este [link](https://www.nature.com/articles/s41597-020-0495-6/tables/7) se encuentra una tabla con el mapeo de estas subsubclases hacia las subclases (en la tabla es _Subclass_) y las clases (en la tabla es _Supclass_).\n",
    "\n",
    "Las tablas de clase, forma y ritmo no estan contenidas en el .zip, pero facilmente se pueden copiar y pegar a un csv para guardarlas localmente y posteriormente hacer los mapeos necesarios"
   ]
  },
  {
   "cell_type": "code",
   "execution_count": 76,
   "id": "20fca017",
   "metadata": {},
   "outputs": [],
   "source": [
    "class_df = pd.read_csv('../data/ptb_xl_class_dictionary.csv')\n",
    "form_df = pd.read_csv('../data/ptb_xl_form_dictionary.csv')\n",
    "rhythm_df = pd.read_csv('../data/ptb_xl_rhythm_dictionary.csv')"
   ]
  },
  {
   "cell_type": "code",
   "execution_count": 137,
   "id": "9a1f2089",
   "metadata": {
    "scrolled": true
   },
   "outputs": [
    {
     "data": {
      "text/html": [
       "<div>\n",
       "<style scoped>\n",
       "    .dataframe tbody tr th:only-of-type {\n",
       "        vertical-align: middle;\n",
       "    }\n",
       "\n",
       "    .dataframe tbody tr th {\n",
       "        vertical-align: top;\n",
       "    }\n",
       "\n",
       "    .dataframe thead th {\n",
       "        text-align: right;\n",
       "    }\n",
       "</style>\n",
       "<table border=\"1\" class=\"dataframe\">\n",
       "  <thead>\n",
       "    <tr style=\"text-align: right;\">\n",
       "      <th></th>\n",
       "      <th>Class</th>\n",
       "      <th># Records</th>\n",
       "      <th>Description</th>\n",
       "      <th>Superclass</th>\n",
       "      <th>Subclass</th>\n",
       "    </tr>\n",
       "  </thead>\n",
       "  <tbody>\n",
       "    <tr>\n",
       "      <th>0</th>\n",
       "      <td>LAFB</td>\n",
       "      <td>1626</td>\n",
       "      <td>left anterior fascicular block</td>\n",
       "      <td>CD</td>\n",
       "      <td>LAFB/LPFB</td>\n",
       "    </tr>\n",
       "    <tr>\n",
       "      <th>1</th>\n",
       "      <td>IRBBB</td>\n",
       "      <td>1118</td>\n",
       "      <td>incomplete right bundle branch block</td>\n",
       "      <td>CD</td>\n",
       "      <td>IRBBB</td>\n",
       "    </tr>\n",
       "    <tr>\n",
       "      <th>2</th>\n",
       "      <td>AVB</td>\n",
       "      <td>797</td>\n",
       "      <td>first degree AV block</td>\n",
       "      <td>CD</td>\n",
       "      <td>_AVB</td>\n",
       "    </tr>\n",
       "    <tr>\n",
       "      <th>3</th>\n",
       "      <td>IVCD</td>\n",
       "      <td>789</td>\n",
       "      <td>non-specific intraventricular conduction distu...</td>\n",
       "      <td>CD</td>\n",
       "      <td>IVCD</td>\n",
       "    </tr>\n",
       "    <tr>\n",
       "      <th>4</th>\n",
       "      <td>CRBBB</td>\n",
       "      <td>542</td>\n",
       "      <td>complete right bundle branch block</td>\n",
       "      <td>CD</td>\n",
       "      <td>CRBBB</td>\n",
       "    </tr>\n",
       "  </tbody>\n",
       "</table>\n",
       "</div>"
      ],
      "text/plain": [
       "   Class  # Records                                        Description  \\\n",
       "0   LAFB       1626                     left anterior fascicular block   \n",
       "1  IRBBB       1118               incomplete right bundle branch block   \n",
       "2    AVB        797                              first degree AV block   \n",
       "3   IVCD        789  non-specific intraventricular conduction distu...   \n",
       "4  CRBBB        542                 complete right bundle branch block   \n",
       "\n",
       "  Superclass   Subclass  \n",
       "0         CD  LAFB/LPFB  \n",
       "1         CD      IRBBB  \n",
       "2         CD       _AVB  \n",
       "3         CD       IVCD  \n",
       "4         CD      CRBBB  "
      ]
     },
     "execution_count": 137,
     "metadata": {},
     "output_type": "execute_result"
    }
   ],
   "source": [
    "class_df.head()"
   ]
  },
  {
   "cell_type": "code",
   "execution_count": 138,
   "id": "5aeb3a4c",
   "metadata": {
    "scrolled": true
   },
   "outputs": [
    {
     "data": {
      "text/html": [
       "<div>\n",
       "<style scoped>\n",
       "    .dataframe tbody tr th:only-of-type {\n",
       "        vertical-align: middle;\n",
       "    }\n",
       "\n",
       "    .dataframe tbody tr th {\n",
       "        vertical-align: top;\n",
       "    }\n",
       "\n",
       "    .dataframe thead th {\n",
       "        text-align: right;\n",
       "    }\n",
       "</style>\n",
       "<table border=\"1\" class=\"dataframe\">\n",
       "  <thead>\n",
       "    <tr style=\"text-align: right;\">\n",
       "      <th></th>\n",
       "      <th>Form</th>\n",
       "      <th># Records</th>\n",
       "      <th>Description</th>\n",
       "    </tr>\n",
       "  </thead>\n",
       "  <tbody>\n",
       "    <tr>\n",
       "      <th>0</th>\n",
       "      <td>NDT</td>\n",
       "      <td>1829</td>\n",
       "      <td>non-diagnostic T abnormalities</td>\n",
       "    </tr>\n",
       "    <tr>\n",
       "      <th>1</th>\n",
       "      <td>NST_</td>\n",
       "      <td>770</td>\n",
       "      <td>non-specific ST changes</td>\n",
       "    </tr>\n",
       "    <tr>\n",
       "      <th>2</th>\n",
       "      <td>DIG</td>\n",
       "      <td>181</td>\n",
       "      <td>digitalis-effect</td>\n",
       "    </tr>\n",
       "    <tr>\n",
       "      <th>3</th>\n",
       "      <td>LNGQT</td>\n",
       "      <td>118</td>\n",
       "      <td>long QT-interval</td>\n",
       "    </tr>\n",
       "    <tr>\n",
       "      <th>4</th>\n",
       "      <td>ABQRS</td>\n",
       "      <td>3327</td>\n",
       "      <td>abnormal QRS</td>\n",
       "    </tr>\n",
       "  </tbody>\n",
       "</table>\n",
       "</div>"
      ],
      "text/plain": [
       "    Form  # Records                     Description\n",
       "0    NDT       1829  non-diagnostic T abnormalities\n",
       "1   NST_        770         non-specific ST changes\n",
       "2    DIG        181                digitalis-effect\n",
       "3  LNGQT        118                long QT-interval\n",
       "4  ABQRS       3327                    abnormal QRS"
      ]
     },
     "execution_count": 138,
     "metadata": {},
     "output_type": "execute_result"
    }
   ],
   "source": [
    "form_df.head()"
   ]
  },
  {
   "cell_type": "code",
   "execution_count": 139,
   "id": "271fadd8",
   "metadata": {
    "scrolled": true
   },
   "outputs": [
    {
     "data": {
      "text/html": [
       "<div>\n",
       "<style scoped>\n",
       "    .dataframe tbody tr th:only-of-type {\n",
       "        vertical-align: middle;\n",
       "    }\n",
       "\n",
       "    .dataframe tbody tr th {\n",
       "        vertical-align: top;\n",
       "    }\n",
       "\n",
       "    .dataframe thead th {\n",
       "        text-align: right;\n",
       "    }\n",
       "</style>\n",
       "<table border=\"1\" class=\"dataframe\">\n",
       "  <thead>\n",
       "    <tr style=\"text-align: right;\">\n",
       "      <th></th>\n",
       "      <th>Rhythm</th>\n",
       "      <th># Records</th>\n",
       "      <th>Description</th>\n",
       "    </tr>\n",
       "  </thead>\n",
       "  <tbody>\n",
       "    <tr>\n",
       "      <th>0</th>\n",
       "      <td>SR</td>\n",
       "      <td>16782</td>\n",
       "      <td>sinus rhythm</td>\n",
       "    </tr>\n",
       "    <tr>\n",
       "      <th>1</th>\n",
       "      <td>AFIB</td>\n",
       "      <td>1514</td>\n",
       "      <td>atrial fibrillation</td>\n",
       "    </tr>\n",
       "    <tr>\n",
       "      <th>2</th>\n",
       "      <td>STACH</td>\n",
       "      <td>826</td>\n",
       "      <td>sinus tachycardia</td>\n",
       "    </tr>\n",
       "    <tr>\n",
       "      <th>3</th>\n",
       "      <td>SARRH</td>\n",
       "      <td>772</td>\n",
       "      <td>sinus arrhythmia</td>\n",
       "    </tr>\n",
       "    <tr>\n",
       "      <th>4</th>\n",
       "      <td>SBRAD</td>\n",
       "      <td>637</td>\n",
       "      <td>sinus bradycardia</td>\n",
       "    </tr>\n",
       "  </tbody>\n",
       "</table>\n",
       "</div>"
      ],
      "text/plain": [
       "  Rhythm  # Records          Description\n",
       "0     SR      16782         sinus rhythm\n",
       "1   AFIB       1514  atrial fibrillation\n",
       "2  STACH        826    sinus tachycardia\n",
       "3  SARRH        772     sinus arrhythmia\n",
       "4  SBRAD        637    sinus bradycardia"
      ]
     },
     "execution_count": 139,
     "metadata": {},
     "output_type": "execute_result"
    }
   ],
   "source": [
    "rhythm_df.head()"
   ]
  },
  {
   "cell_type": "markdown",
   "id": "c3bdba50",
   "metadata": {},
   "source": [
    "### Subsubclases a clases"
   ]
  },
  {
   "cell_type": "markdown",
   "id": "c1eae232",
   "metadata": {},
   "source": [
    "Trabajamos entonces con la columna _scp_codes_ para recuperar las clases a partir de las subsubclases."
   ]
  },
  {
   "cell_type": "code",
   "execution_count": 142,
   "id": "99b0c26a",
   "metadata": {},
   "outputs": [],
   "source": [
    "### Aplicamos eval pues el formato venia como dict en un string\n",
    "scp_codes = data['scp_codes'].apply(lambda x : eval(x))\n",
    "\n",
    "### Hacemos un diccionario para mapear subsubclase a clase\n",
    "class_dict = {key : value for key, value in zip(class_df['Class'], class_df['Superclass'])}"
   ]
  },
  {
   "cell_type": "code",
   "execution_count": 155,
   "id": "de2dc051",
   "metadata": {},
   "outputs": [],
   "source": [
    "### Obtenemos los valores unicos de las subsubclases\n",
    "class_set = set(class_df['Class'])\n",
    "\n",
    "### Aqui guardaremos el mapeo de las clases a subsubclases, para\n",
    "### cada etiqueta que en efecto corresponda a una subsubclase \n",
    "### (pues tambien podria ser una etiqueta de forma o de ritmo)\n",
    "class_series = scp_codes.copy()\n",
    "\n",
    "for k in range(len(superclass_series)):\n",
    "    aux = set(scp_codes.iloc[k].keys()) # Etiquetas por registro\n",
    "    aux = aux.intersection(class_set) # Conservamos solo las que son subsubclases\n",
    "    aux = list(aux)\n",
    "\n",
    "    classes_aux = []\n",
    "    for class_ in aux:\n",
    "        # Hacemos el mapeo de subsubclase a clase y lo guardamos\n",
    "        classes_aux.append(class_dict[class_])\n",
    "\n",
    "    class_series.iloc[k] = classes_aux"
   ]
  },
  {
   "cell_type": "code",
   "execution_count": 156,
   "id": "807f2b86",
   "metadata": {},
   "outputs": [
    {
     "data": {
      "text/plain": [
       "0    [NORM]\n",
       "1    [NORM]\n",
       "2    [NORM]\n",
       "3    [NORM]\n",
       "4    [NORM]\n",
       "Name: scp_codes, dtype: object"
      ]
     },
     "execution_count": 156,
     "metadata": {},
     "output_type": "execute_result"
    }
   ],
   "source": [
    "class_series.head()"
   ]
  },
  {
   "cell_type": "markdown",
   "id": "5a840f44",
   "metadata": {},
   "source": [
    "Es util tener los valores de las clases a las que pertenece cada registro, pero es aun mejor tener el OneHot-Encoding para hacer facilmente calculos de las intersecciones:"
   ]
  },
  {
   "cell_type": "code",
   "execution_count": 157,
   "id": "b2a38097",
   "metadata": {},
   "outputs": [],
   "source": [
    "### Aqui guardaremos el df con el OHE de los registros vs las clases\n",
    "ohe_class_df = pd.DataFrame(columns = list(class_df['Superclass'].unique()))\n",
    "\n",
    "for k in range(len(superclass_series)):\n",
    "    aux = class_series.iloc[k]\n",
    "    class_aux = pd.DataFrame(index = [0], columns = list(class_df['Superclass'].unique()))\n",
    "\n",
    "    for _ in range(len(aux)):\n",
    "        ### Asignamos un 1 a las columnas referentes a cada clase por cada registro\n",
    "        class_aux[aux[_]] = 1\n",
    "\n",
    "    ohe_class_df = pd.concat([ohe_class_df, class_aux])"
   ]
  },
  {
   "cell_type": "code",
   "execution_count": 166,
   "id": "86d1ab4d",
   "metadata": {},
   "outputs": [
    {
     "data": {
      "text/html": [
       "<div>\n",
       "<style scoped>\n",
       "    .dataframe tbody tr th:only-of-type {\n",
       "        vertical-align: middle;\n",
       "    }\n",
       "\n",
       "    .dataframe tbody tr th {\n",
       "        vertical-align: top;\n",
       "    }\n",
       "\n",
       "    .dataframe thead th {\n",
       "        text-align: right;\n",
       "    }\n",
       "</style>\n",
       "<table border=\"1\" class=\"dataframe\">\n",
       "  <thead>\n",
       "    <tr style=\"text-align: right;\">\n",
       "      <th></th>\n",
       "      <th>index</th>\n",
       "      <th>CD</th>\n",
       "      <th>HYP</th>\n",
       "      <th>MI</th>\n",
       "      <th>NORM</th>\n",
       "      <th>STTC</th>\n",
       "    </tr>\n",
       "  </thead>\n",
       "  <tbody>\n",
       "    <tr>\n",
       "      <th>0</th>\n",
       "      <td>0</td>\n",
       "      <td>0</td>\n",
       "      <td>0</td>\n",
       "      <td>0</td>\n",
       "      <td>1</td>\n",
       "      <td>0</td>\n",
       "    </tr>\n",
       "    <tr>\n",
       "      <th>1</th>\n",
       "      <td>0</td>\n",
       "      <td>0</td>\n",
       "      <td>0</td>\n",
       "      <td>0</td>\n",
       "      <td>1</td>\n",
       "      <td>0</td>\n",
       "    </tr>\n",
       "    <tr>\n",
       "      <th>2</th>\n",
       "      <td>0</td>\n",
       "      <td>0</td>\n",
       "      <td>0</td>\n",
       "      <td>0</td>\n",
       "      <td>1</td>\n",
       "      <td>0</td>\n",
       "    </tr>\n",
       "    <tr>\n",
       "      <th>3</th>\n",
       "      <td>0</td>\n",
       "      <td>0</td>\n",
       "      <td>0</td>\n",
       "      <td>0</td>\n",
       "      <td>1</td>\n",
       "      <td>0</td>\n",
       "    </tr>\n",
       "    <tr>\n",
       "      <th>4</th>\n",
       "      <td>0</td>\n",
       "      <td>0</td>\n",
       "      <td>0</td>\n",
       "      <td>0</td>\n",
       "      <td>1</td>\n",
       "      <td>0</td>\n",
       "    </tr>\n",
       "  </tbody>\n",
       "</table>\n",
       "</div>"
      ],
      "text/plain": [
       "   index  CD  HYP  MI  NORM  STTC\n",
       "0      0   0    0   0     1     0\n",
       "1      0   0    0   0     1     0\n",
       "2      0   0    0   0     1     0\n",
       "3      0   0    0   0     1     0\n",
       "4      0   0    0   0     1     0"
      ]
     },
     "execution_count": 166,
     "metadata": {},
     "output_type": "execute_result"
    }
   ],
   "source": [
    "ohe_class_df = ohe_class_df.fillna(0) ### Llenamos de 0 los NaN\n",
    "ohe_class_df.reset_index(inplace = True)\n",
    "ohe_class_df.head()"
   ]
  },
  {
   "cell_type": "markdown",
   "id": "ad924021",
   "metadata": {},
   "source": [
    "Con el OHE, es mas facil calcular cuantos registros contienen intersecciones de clases. Son de particular interes las clases NORM, MI y STTC:"
   ]
  },
  {
   "cell_type": "code",
   "execution_count": 168,
   "id": "125f07b6",
   "metadata": {},
   "outputs": [
    {
     "name": "stdout",
     "output_type": "stream",
     "text": [
      "Total MI registers: 5486\n",
      "Total STTC registers: 5250\n",
      "Total NORM registers: 9528\n",
      "\n",
      "Total MI & STTC registers: 1345\n",
      "Total MI & NORM registers: 1\n",
      "Total STTC & NORM registers: 33\n"
     ]
    }
   ],
   "source": [
    "val = 'MI'\n",
    "print(f'Total {val} registers:', sum(ohe_class_df[val] == 1))\n",
    "val = 'STTC'\n",
    "print(f'Total {val} registers:', sum(ohe_class_df[val] == 1))\n",
    "val = 'NORM'\n",
    "print(f'Total {val} registers:', sum(ohe_class_df[val] == 1))\n",
    "\n",
    "print()\n",
    "\n",
    "val1, val2 = 'MI', 'STTC'\n",
    "print(f'Total {val1} & {val2} registers:', sum((ohe_class_df[val1] == 1) & (ohe_class_df[val2] == 1)))\n",
    "val1, val2 = 'MI', 'NORM'\n",
    "print(f'Total {val1} & {val2} registers:', sum((ohe_class_df[val1] == 1) & (ohe_class_df[val2] == 1)))\n",
    "val1, val2 = 'STTC', 'NORM'\n",
    "print(f'Total {val1} & {val2} registers:', sum((ohe_class_df[val1] == 1) & (ohe_class_df[val2] == 1)))"
   ]
  },
  {
   "cell_type": "markdown",
   "id": "84b35ee6",
   "metadata": {},
   "source": [
    "Podemos ver que la intereccion MI & STTC contiene un numero elevado de registros relativo a la cantidad de registros que cada clase tiene independientemente. Por otra parte, vemos que las intersecciones con NORM son muy pequeñas tanto con MI (solo 1, incluso quiza fue un error) como con STTC."
   ]
  },
  {
   "cell_type": "markdown",
   "id": "0cdcbc6c",
   "metadata": {},
   "source": [
    "### Subsubclases a subclases"
   ]
  },
  {
   "cell_type": "markdown",
   "id": "40a0b4d8",
   "metadata": {},
   "source": [
    "Trabajamos entonces con la columna _scp_codes_ para recuperar las subclases a partir de las subsubclases."
   ]
  },
  {
   "cell_type": "code",
   "execution_count": 170,
   "id": "245a6e05",
   "metadata": {},
   "outputs": [],
   "source": [
    "### Hacemos un diccionario para mapear subsubclase a subclase\n",
    "subclass_dict = {key : value for key, value in zip(class_df['Class'], class_df['Subclass'])}"
   ]
  },
  {
   "cell_type": "code",
   "execution_count": 175,
   "id": "4e16c330",
   "metadata": {},
   "outputs": [
    {
     "data": {
      "text/plain": [
       "dict_keys(['NORM', 'SR'])"
      ]
     },
     "execution_count": 175,
     "metadata": {},
     "output_type": "execute_result"
    }
   ],
   "source": [
    "scp_codes.iloc[k].keys()"
   ]
  },
  {
   "cell_type": "code",
   "execution_count": 172,
   "id": "8160df7f",
   "metadata": {},
   "outputs": [],
   "source": [
    "### Obtenemos los valores unicos de las subsubclases\n",
    "class_set = set(class_df['Class'])\n",
    "\n",
    "### Aqui guardaremos el mapeo de las subclases a subsubclases, para\n",
    "### cada etiqueta que en efecto corresponda a una subsubclase \n",
    "### (pues tambien podria ser una etiqueta de forma o de ritmo)\n",
    "subclass_series = scp_codes.copy()\n",
    "\n",
    "for k in range(len(subclass_series)):\n",
    "    aux = set(scp_codes.iloc[k].keys()) # Etiquetas por registro\n",
    "    aux = aux.intersection(class_set) # Conservamos solo las que son subsubclases\n",
    "    aux = list(aux)\n",
    "\n",
    "    classes_aux = []\n",
    "    for subclass_ in aux:\n",
    "        # Hacemos el mapeo de subsubclase a clase y lo guardamos\n",
    "        classes_aux.append(subclass_dict[subclass_])\n",
    "\n",
    "    subclass_series.iloc[k] = classes_aux"
   ]
  },
  {
   "cell_type": "code",
   "execution_count": 173,
   "id": "d8983144",
   "metadata": {},
   "outputs": [
    {
     "data": {
      "text/plain": [
       "0    [NORM]\n",
       "1    [NORM]\n",
       "2    [NORM]\n",
       "3    [NORM]\n",
       "4    [NORM]\n",
       "Name: scp_codes, dtype: object"
      ]
     },
     "execution_count": 173,
     "metadata": {},
     "output_type": "execute_result"
    }
   ],
   "source": [
    "subclass_series.head()"
   ]
  },
  {
   "cell_type": "markdown",
   "id": "401dde4e",
   "metadata": {},
   "source": [
    "Es util tener los valores de las subclases a las que pertenece cada registro, pero es aun mejor tener el OneHot-Encoding para hacer facilmente calculos de las intersecciones:"
   ]
  },
  {
   "cell_type": "code",
   "execution_count": 180,
   "id": "5463876c",
   "metadata": {},
   "outputs": [],
   "source": [
    "### Aqui guardaremos el df con el OHE de los registros vs las clases\n",
    "ohe_subclass_df = pd.DataFrame(columns = list(class_df['Subclass'].unique()))\n",
    "\n",
    "for k in range(len(subclass_series)):\n",
    "    aux = subclass_series.iloc[k]\n",
    "    class_aux = pd.DataFrame(index = [0], columns = list(class_df['Subclass'].unique()))\n",
    "\n",
    "    for _ in range(len(aux)):\n",
    "        ### Asignamos un 1 a las columnas referentes a cada clase por cada registro\n",
    "        class_aux[aux[_]] = 1\n",
    "\n",
    "    ohe_subclass_df = pd.concat([ohe_subclass_df, class_aux])"
   ]
  },
  {
   "cell_type": "code",
   "execution_count": 181,
   "id": "4ad384f5",
   "metadata": {},
   "outputs": [
    {
     "data": {
      "text/html": [
       "<div>\n",
       "<style scoped>\n",
       "    .dataframe tbody tr th:only-of-type {\n",
       "        vertical-align: middle;\n",
       "    }\n",
       "\n",
       "    .dataframe tbody tr th {\n",
       "        vertical-align: top;\n",
       "    }\n",
       "\n",
       "    .dataframe thead th {\n",
       "        text-align: right;\n",
       "    }\n",
       "</style>\n",
       "<table border=\"1\" class=\"dataframe\">\n",
       "  <thead>\n",
       "    <tr style=\"text-align: right;\">\n",
       "      <th></th>\n",
       "      <th>index</th>\n",
       "      <th>LAFB/LPFB</th>\n",
       "      <th>IRBBB</th>\n",
       "      <th>_AVB</th>\n",
       "      <th>IVCD</th>\n",
       "      <th>CRBBB</th>\n",
       "      <th>CLBBB</th>\n",
       "      <th>WPW</th>\n",
       "      <th>ILBBB</th>\n",
       "      <th>LVH</th>\n",
       "      <th>...</th>\n",
       "      <th>IMI</th>\n",
       "      <th>AMI</th>\n",
       "      <th>LMI</th>\n",
       "      <th>PMI</th>\n",
       "      <th>NORM</th>\n",
       "      <th>STTC</th>\n",
       "      <th>NST_</th>\n",
       "      <th>ISC_</th>\n",
       "      <th>ISCA</th>\n",
       "      <th>ISCI</th>\n",
       "    </tr>\n",
       "  </thead>\n",
       "  <tbody>\n",
       "    <tr>\n",
       "      <th>0</th>\n",
       "      <td>0</td>\n",
       "      <td>0</td>\n",
       "      <td>0</td>\n",
       "      <td>0</td>\n",
       "      <td>0</td>\n",
       "      <td>0</td>\n",
       "      <td>0</td>\n",
       "      <td>0</td>\n",
       "      <td>0</td>\n",
       "      <td>0</td>\n",
       "      <td>...</td>\n",
       "      <td>0</td>\n",
       "      <td>0</td>\n",
       "      <td>0</td>\n",
       "      <td>0</td>\n",
       "      <td>1</td>\n",
       "      <td>0</td>\n",
       "      <td>0</td>\n",
       "      <td>0</td>\n",
       "      <td>0</td>\n",
       "      <td>0</td>\n",
       "    </tr>\n",
       "    <tr>\n",
       "      <th>1</th>\n",
       "      <td>0</td>\n",
       "      <td>0</td>\n",
       "      <td>0</td>\n",
       "      <td>0</td>\n",
       "      <td>0</td>\n",
       "      <td>0</td>\n",
       "      <td>0</td>\n",
       "      <td>0</td>\n",
       "      <td>0</td>\n",
       "      <td>0</td>\n",
       "      <td>...</td>\n",
       "      <td>0</td>\n",
       "      <td>0</td>\n",
       "      <td>0</td>\n",
       "      <td>0</td>\n",
       "      <td>1</td>\n",
       "      <td>0</td>\n",
       "      <td>0</td>\n",
       "      <td>0</td>\n",
       "      <td>0</td>\n",
       "      <td>0</td>\n",
       "    </tr>\n",
       "    <tr>\n",
       "      <th>2</th>\n",
       "      <td>0</td>\n",
       "      <td>0</td>\n",
       "      <td>0</td>\n",
       "      <td>0</td>\n",
       "      <td>0</td>\n",
       "      <td>0</td>\n",
       "      <td>0</td>\n",
       "      <td>0</td>\n",
       "      <td>0</td>\n",
       "      <td>0</td>\n",
       "      <td>...</td>\n",
       "      <td>0</td>\n",
       "      <td>0</td>\n",
       "      <td>0</td>\n",
       "      <td>0</td>\n",
       "      <td>1</td>\n",
       "      <td>0</td>\n",
       "      <td>0</td>\n",
       "      <td>0</td>\n",
       "      <td>0</td>\n",
       "      <td>0</td>\n",
       "    </tr>\n",
       "    <tr>\n",
       "      <th>3</th>\n",
       "      <td>0</td>\n",
       "      <td>0</td>\n",
       "      <td>0</td>\n",
       "      <td>0</td>\n",
       "      <td>0</td>\n",
       "      <td>0</td>\n",
       "      <td>0</td>\n",
       "      <td>0</td>\n",
       "      <td>0</td>\n",
       "      <td>0</td>\n",
       "      <td>...</td>\n",
       "      <td>0</td>\n",
       "      <td>0</td>\n",
       "      <td>0</td>\n",
       "      <td>0</td>\n",
       "      <td>1</td>\n",
       "      <td>0</td>\n",
       "      <td>0</td>\n",
       "      <td>0</td>\n",
       "      <td>0</td>\n",
       "      <td>0</td>\n",
       "    </tr>\n",
       "    <tr>\n",
       "      <th>4</th>\n",
       "      <td>0</td>\n",
       "      <td>0</td>\n",
       "      <td>0</td>\n",
       "      <td>0</td>\n",
       "      <td>0</td>\n",
       "      <td>0</td>\n",
       "      <td>0</td>\n",
       "      <td>0</td>\n",
       "      <td>0</td>\n",
       "      <td>0</td>\n",
       "      <td>...</td>\n",
       "      <td>0</td>\n",
       "      <td>0</td>\n",
       "      <td>0</td>\n",
       "      <td>0</td>\n",
       "      <td>1</td>\n",
       "      <td>0</td>\n",
       "      <td>0</td>\n",
       "      <td>0</td>\n",
       "      <td>0</td>\n",
       "      <td>0</td>\n",
       "    </tr>\n",
       "  </tbody>\n",
       "</table>\n",
       "<p>5 rows × 24 columns</p>\n",
       "</div>"
      ],
      "text/plain": [
       "   index  LAFB/LPFB  IRBBB  _AVB  IVCD  CRBBB  CLBBB  WPW  ILBBB  LVH  ...  \\\n",
       "0      0          0      0     0     0      0      0    0      0    0  ...   \n",
       "1      0          0      0     0     0      0      0    0      0    0  ...   \n",
       "2      0          0      0     0     0      0      0    0      0    0  ...   \n",
       "3      0          0      0     0     0      0      0    0      0    0  ...   \n",
       "4      0          0      0     0     0      0      0    0      0    0  ...   \n",
       "\n",
       "   IMI  AMI  LMI  PMI  NORM  STTC  NST_  ISC_  ISCA  ISCI  \n",
       "0    0    0    0    0     1     0     0     0     0     0  \n",
       "1    0    0    0    0     1     0     0     0     0     0  \n",
       "2    0    0    0    0     1     0     0     0     0     0  \n",
       "3    0    0    0    0     1     0     0     0     0     0  \n",
       "4    0    0    0    0     1     0     0     0     0     0  \n",
       "\n",
       "[5 rows x 24 columns]"
      ]
     },
     "execution_count": 181,
     "metadata": {},
     "output_type": "execute_result"
    }
   ],
   "source": [
    "ohe_subclass_df = ohe_subclass_df.fillna(0) ### Llenamos de 0 los NaN\n",
    "ohe_subclass_df.reset_index(inplace = True)\n",
    "ohe_subclass_df.head()"
   ]
  },
  {
   "cell_type": "code",
   "execution_count": 186,
   "id": "610abe2e",
   "metadata": {},
   "outputs": [
    {
     "data": {
      "text/plain": [
       "Index(['index', 'LAFB/LPFB', 'IRBBB', '_AVB', 'IVCD', 'CRBBB', 'CLBBB', 'WPW',\n",
       "       'ILBBB', 'LVH', 'LAO/LAE', 'RVH', 'RAO/RAE', 'SEHYP', 'IMI', 'AMI',\n",
       "       'LMI', 'PMI', 'NORM', 'STTC', 'NST_', 'ISC_', 'ISCA', 'ISCI'],\n",
       "      dtype='object')"
      ]
     },
     "execution_count": 186,
     "metadata": {},
     "output_type": "execute_result"
    }
   ],
   "source": [
    "ohe_subclass_df.columns"
   ]
  },
  {
   "cell_type": "markdown",
   "id": "a4bda1cf",
   "metadata": {},
   "source": [
    "Con el OHE, es mas facil calcular cuantos registros contienen intersecciones de clases. Son de particular interes las clases NORM, MI y STTC:"
   ]
  },
  {
   "cell_type": "code",
   "execution_count": 262,
   "id": "c750770a",
   "metadata": {},
   "outputs": [
    {
     "name": "stdout",
     "output_type": "stream",
     "text": [
      "Total ISCI registers: 398\n",
      "Total ISCA registers: 944\n",
      "Total IMI registers: 3281\n",
      "Total AMI registers: 3086\n",
      "\n",
      "Total ISCI & ISCA registers: 142\n",
      "Total IMI & AMI registers: 996\n",
      "Total ISCI & IMI registers: 7\n",
      "Total ISCI & AMI registers: 68\n",
      "Total ISCA & IMI registers: 242\n",
      "Total ISCA & AMI registers: 246\n"
     ]
    }
   ],
   "source": [
    "val = 'ISCI'\n",
    "print(f'Total {val} registers:', sum(ohe_subclass_df[val] == 1))\n",
    "val = 'ISCA'\n",
    "print(f'Total {val} registers:', sum(ohe_subclass_df[val] == 1))\n",
    "val = 'IMI'\n",
    "print(f'Total {val} registers:', sum(ohe_subclass_df[val] == 1))\n",
    "val = 'AMI'\n",
    "print(f'Total {val} registers:', sum(ohe_subclass_df[val] == 1))\n",
    "\n",
    "print()\n",
    "\n",
    "val1, val2 = 'ISCI', 'ISCA'\n",
    "print(f'Total {val1} & {val2} registers:', sum((ohe_subclass_df[val1] == 1) & (ohe_subclass_df[val2] == 1)))\n",
    "val1, val2 = 'IMI', 'AMI'\n",
    "print(f'Total {val1} & {val2} registers:', sum((ohe_subclass_df[val1] == 1) & (ohe_subclass_df[val2] == 1)))\n",
    "val1, val2 = 'ISCI', 'IMI'\n",
    "print(f'Total {val1} & {val2} registers:', sum((ohe_subclass_df[val1] == 1) & (ohe_subclass_df[val2] == 1)))\n",
    "val1, val2 = 'ISCI', 'AMI'\n",
    "print(f'Total {val1} & {val2} registers:', sum((ohe_subclass_df[val1] == 1) & (ohe_subclass_df[val2] == 1)))\n",
    "val1, val2 = 'ISCA', 'IMI'\n",
    "print(f'Total {val1} & {val2} registers:', sum((ohe_subclass_df[val1] == 1) & (ohe_subclass_df[val2] == 1)))\n",
    "val1, val2 = 'ISCA', 'AMI'\n",
    "print(f'Total {val1} & {val2} registers:', sum((ohe_subclass_df[val1] == 1) & (ohe_subclass_df[val2] == 1)))"
   ]
  },
  {
   "cell_type": "markdown",
   "id": "3e87fe3d",
   "metadata": {},
   "source": [
    "Vemos que hay interescciones entre las subclases ISCI e ISCA, pertenecientes a la clase STTC. Tambien se ve que hay algunas intersecciones entre las subclases de STTC con las de MI, lo cual es de interes para ir identificando cuales podrian ser verdaderos positivos (i.e. que se observo un cambio en el segmento ST y que ademas tuvieron un infarto)."
   ]
  },
  {
   "cell_type": "markdown",
   "id": "ec34c0f5",
   "metadata": {},
   "source": [
    "### Subsubclases de interes"
   ]
  },
  {
   "cell_type": "markdown",
   "id": "425a957a",
   "metadata": {},
   "source": [
    "Tambien es de interes observar si hay intersecciones entre las subsubclases que el Dr. Araiza indico, que son de STTC, y las de MI"
   ]
  },
  {
   "cell_type": "code",
   "execution_count": 260,
   "id": "28a9d914",
   "metadata": {},
   "outputs": [],
   "source": [
    "sttc_interest_list = ['ISCAL', 'ISCIN', 'ISCIL', 'ISCAS', 'ISCLA']\n",
    "mi_subsubclass_list = list(class_df[class_df['Superclass'] == 'MI']['Class'])\n",
    "interest_list = sttc_interest_list + mi_subsubclass_list"
   ]
  },
  {
   "cell_type": "code",
   "execution_count": 261,
   "id": "2e50fdf8",
   "metadata": {},
   "outputs": [
    {
     "data": {
      "text/plain": [
       "['ISCAL',\n",
       " 'ISCIN',\n",
       " 'ISCIL',\n",
       " 'ISCAS',\n",
       " 'ISCLA',\n",
       " 'IMI',\n",
       " 'ASMI',\n",
       " 'ILMI',\n",
       " 'AMI',\n",
       " 'ALMI',\n",
       " 'INJAS',\n",
       " 'LMI',\n",
       " 'INJAL',\n",
       " 'IPLMI',\n",
       " 'IPMI',\n",
       " 'INJIN',\n",
       " 'PMI',\n",
       " 'INJLA',\n",
       " 'INJIL']"
      ]
     },
     "execution_count": 261,
     "metadata": {},
     "output_type": "execute_result"
    }
   ],
   "source": [
    "interest_list"
   ]
  }
 ],
 "metadata": {
  "kernelspec": {
   "display_name": "Python 3",
   "language": "python",
   "name": "python3"
  },
  "language_info": {
   "codemirror_mode": {
    "name": "ipython",
    "version": 3
   },
   "file_extension": ".py",
   "mimetype": "text/x-python",
   "name": "python",
   "nbconvert_exporter": "python",
   "pygments_lexer": "ipython3",
   "version": "3.9.5"
  }
 },
 "nbformat": 4,
 "nbformat_minor": 5
}
