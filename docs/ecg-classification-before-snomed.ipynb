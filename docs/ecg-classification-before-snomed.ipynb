{
 "cells": [
  {
   "cell_type": "markdown",
   "id": "7c165e10",
   "metadata": {},
   "source": [
    "# ECG Classification"
   ]
  },
  {
   "cell_type": "markdown",
   "id": "730cc617",
   "metadata": {},
   "source": [
    "In this notebook we explored the PTB-XL dataset as downloaded from physionet. It helped us get some ideas on how to manipulate the data, which classes were important, and served to work on some dummy models.\n",
    "\n",
    "However, it was later detected that the files we were using did not contain the diagnosis in the SNOMED format, which is exactly what we need. For this reason, we stopped working on this nb.\n",
    "\n",
    "If you want to run this notebook, beware, since some sections were slightly modified and it does not actually compile in a straightforward manner."
   ]
  },
  {
   "cell_type": "markdown",
   "id": "0d090fdf",
   "metadata": {},
   "source": [
    "## Original code"
   ]
  },
  {
   "cell_type": "markdown",
   "id": "678b699d",
   "metadata": {},
   "source": [
    "These first lines are an exact copy of the code in 'example_physionet.ipynb'"
   ]
  },
  {
   "cell_type": "code",
   "execution_count": 2,
   "id": "96ac75ab",
   "metadata": {},
   "outputs": [],
   "source": [
    "import pandas as pd\n",
    "import numpy as np\n",
    "import wfdb\n",
    "import ast"
   ]
  },
  {
   "cell_type": "code",
   "execution_count": 3,
   "id": "3615fb8a",
   "metadata": {},
   "outputs": [],
   "source": [
    "def load_raw_data(df, sampling_rate, path):\n",
    "    if sampling_rate == 100:\n",
    "        data = [wfdb.rdsamp(path+f) for f in df.filename_lr]\n",
    "    else:\n",
    "        data = [wfdb.rdsamp(path+f) for f in df.filename_hr]\n",
    "    data = np.array([signal for signal, meta in data])\n",
    "    return data"
   ]
  },
  {
   "cell_type": "code",
   "execution_count": 4,
   "id": "77bac73b",
   "metadata": {},
   "outputs": [],
   "source": [
    "path = '../data/ptb-xl-a-large-publicly-available-electrocardiography-dataset-1.0.1/'\n",
    "sampling_rate=100\n",
    "\n",
    "# load and convert annotation data\n",
    "Y = pd.read_csv(path+'ptbxl_database.csv', index_col='ecg_id')\n",
    "Y.scp_codes = Y.scp_codes.apply(lambda x: ast.literal_eval(x))\n",
    "\n",
    "# Load raw signal data\n",
    "X = load_raw_data(Y, sampling_rate, path)"
   ]
  },
  {
   "cell_type": "code",
   "execution_count": 4,
   "id": "969f64f1",
   "metadata": {},
   "outputs": [],
   "source": [
    "# Load scp_statements.csv for diagnostic aggregation\n",
    "agg_df = pd.read_csv(path+'scp_statements.csv', index_col=0)\n",
    "agg_df = agg_df[agg_df.diagnostic == 1]"
   ]
  },
  {
   "cell_type": "code",
   "execution_count": 5,
   "id": "39971ae3",
   "metadata": {},
   "outputs": [],
   "source": [
    "def aggregate_diagnostic(y_dic):\n",
    "    tmp = []\n",
    "    for key in y_dic.keys():\n",
    "        if key in agg_df.index:\n",
    "            tmp.append(agg_df.loc[key].diagnostic_class)\n",
    "    return list(set(tmp))\n",
    "\n",
    "# Apply diagnostic superclass\n",
    "Y['diagnostic_superclass'] = Y.scp_codes.apply(aggregate_diagnostic)"
   ]
  },
  {
   "cell_type": "code",
   "execution_count": 6,
   "id": "926052a1",
   "metadata": {},
   "outputs": [],
   "source": [
    "# Split data into train and test\n",
    "test_fold = 10\n",
    "# Train\n",
    "X_train = X[np.where(Y.strat_fold != test_fold)]\n",
    "y_train = Y[(Y.strat_fold != test_fold)].diagnostic_superclass\n",
    "# Test\n",
    "X_test = X[np.where(Y.strat_fold == test_fold)]\n",
    "y_test = Y[Y.strat_fold == test_fold].diagnostic_superclass"
   ]
  },
  {
   "cell_type": "markdown",
   "id": "9e70e7d8",
   "metadata": {},
   "source": [
    "## New code"
   ]
  },
  {
   "cell_type": "code",
   "execution_count": 8,
   "id": "1868f5ad",
   "metadata": {},
   "outputs": [],
   "source": [
    "import random\n",
    "\n",
    "import matplotlib.pyplot as plt\n",
    "import matplotlib\n",
    "\n",
    "from sklearn.model_selection import train_test_split"
   ]
  },
  {
   "cell_type": "code",
   "execution_count": 35,
   "id": "48a2de7d",
   "metadata": {},
   "outputs": [],
   "source": [
    "random_state = 203129"
   ]
  },
  {
   "cell_type": "markdown",
   "id": "9ed77f4f",
   "metadata": {},
   "source": [
    "### Visualizing ECGs"
   ]
  },
  {
   "cell_type": "markdown",
   "id": "92da6cc4",
   "metadata": {},
   "source": [
    "Now we begin to modify and extend on it a little. First, we make some plots to visualize the ECG."
   ]
  },
  {
   "cell_type": "code",
   "execution_count": 9,
   "id": "7972d41f",
   "metadata": {},
   "outputs": [],
   "source": [
    "# This is the order of the 12 signals for each file in the PTB-XL dataset\n",
    "signals = ['I', 'II', 'III', 'AVL', 'AVR', 'AVF', 'V1', 'V2','V3','V4','V5', 'V6']"
   ]
  },
  {
   "cell_type": "markdown",
   "id": "4ea9ceff",
   "metadata": {},
   "source": [
    "For plotting, it is more visually similar to the real ECG pictures if we standarize the limits in which each wave is portrayed. For this, it would be best to both: Set limits and allow overlapping. Nevertheless, overlapping is not as straightfowrard to code, so we just use the limits for the moment."
   ]
  },
  {
   "cell_type": "code",
   "execution_count": 10,
   "id": "eeae50b1",
   "metadata": {},
   "outputs": [
    {
     "name": "stdout",
     "output_type": "stream",
     "text": [
      "top limit:  1.719 , bot limit:  -1.858\n"
     ]
    }
   ],
   "source": [
    "ylim_top = np.quantile(X, 0.999)\n",
    "ylim_bot = np.quantile(X, 0.001)\n",
    "\n",
    "print('top limit: ', ylim_top, ', bot limit: ', ylim_bot)"
   ]
  },
  {
   "cell_type": "code",
   "execution_count": 11,
   "id": "cec71bae",
   "metadata": {},
   "outputs": [
    {
     "ename": "NameError",
     "evalue": "name 'ylim_top' is not defined",
     "output_type": "error",
     "traceback": [
      "\u001b[1;31m---------------------------------------------------------------------------\u001b[0m",
      "\u001b[1;31mNameError\u001b[0m                                 Traceback (most recent call last)",
      "\u001b[1;32m<ipython-input-11-124590f1e382>\u001b[0m in \u001b[0;36m<module>\u001b[1;34m\u001b[0m\n\u001b[1;32m----> 1\u001b[1;33m \u001b[1;32mdef\u001b[0m \u001b[0mplot_ecg\u001b[0m\u001b[1;33m(\u001b[0m\u001b[0mwaves\u001b[0m\u001b[1;33m,\u001b[0m \u001b[0mylim_top\u001b[0m\u001b[1;33m=\u001b[0m\u001b[0mylim_top\u001b[0m\u001b[1;33m,\u001b[0m \u001b[0mylim_bot\u001b[0m\u001b[1;33m=\u001b[0m\u001b[0mylim_bot\u001b[0m\u001b[1;33m,\u001b[0m \u001b[0mfigsize\u001b[0m\u001b[1;33m=\u001b[0m\u001b[1;33m(\u001b[0m\u001b[1;36m16\u001b[0m\u001b[1;33m,\u001b[0m\u001b[1;36m20\u001b[0m\u001b[1;33m)\u001b[0m\u001b[1;33m)\u001b[0m\u001b[1;33m:\u001b[0m\u001b[1;33m\u001b[0m\u001b[1;33m\u001b[0m\u001b[0m\n\u001b[0m\u001b[0;32m      2\u001b[0m \u001b[1;33m\u001b[0m\u001b[0m\n\u001b[0;32m      3\u001b[0m     \"\"\"\n\u001b[0;32m      4\u001b[0m     \u001b[0mPlot\u001b[0m \u001b[0mthe\u001b[0m \u001b[1;36m12\u001b[0m\u001b[1;33m-\u001b[0m\u001b[0mlead\u001b[0m \u001b[0mecg\u001b[0m\u001b[1;33m.\u001b[0m \u001b[0mNote\u001b[0m \u001b[0mthis\u001b[0m \u001b[0mfunction\u001b[0m \u001b[0massumes\u001b[0m \u001b[0mwe\u001b[0m \u001b[0mare\u001b[0m \u001b[0musing\u001b[0m \u001b[0mthe\u001b[0m \u001b[0mstandard\u001b[0m \u001b[1;36m12\u001b[0m \u001b[0mleads\u001b[0m \u001b[1;32min\u001b[0m \u001b[0mthe\u001b[0m\u001b[1;33m\u001b[0m\u001b[1;33m\u001b[0m\u001b[0m\n\u001b[0;32m      5\u001b[0m     \u001b[0mfollowing\u001b[0m \u001b[0morder\u001b[0m\u001b[1;33m:\u001b[0m\u001b[1;33m\u001b[0m\u001b[1;33m\u001b[0m\u001b[0m\n",
      "\u001b[1;31mNameError\u001b[0m: name 'ylim_top' is not defined"
     ]
    }
   ],
   "source": [
    "def plot_ecg(waves, ylim_top=ylim_top, ylim_bot=ylim_bot, figsize=(16,20)):\n",
    "\n",
    "    \"\"\"\n",
    "    Plot the 12-lead ecg. Note this function assumes we are using the standard 12 leads in the \n",
    "    following order:\n",
    "    \n",
    "    signals = ['I', 'II', 'III', 'AVL', 'AVR', 'AVF', 'V1', 'V2','V3','V4','V5', 'V6']\n",
    "    \n",
    "    Inputs:\n",
    "        waves - np.array, shape=(n, 12); n is the number of simulations for each individual signal.\n",
    "        ylim_top - float; sets the upper limit for every signal.\n",
    "        ylim_bot - float; sets the lower limit for every signal.\n",
    "    \n",
    "    Possible Upgrades:\n",
    "        Don't immediately assume it has 12 channels, nor the order. Instead pass both as parameters.\n",
    "        The y limits by themselves are not good enough to represent a more realistic image. We could\n",
    "        use some overlapping between waves.\n",
    "        Maybe the patients id and the diagnostic can be added at the top.\n",
    "    \"\"\"\n",
    "    \n",
    "    fig, axs = plt.subplots(12,1,figsize=figsize, facecolor='w', edgecolor='k')\n",
    "    fig.subplots_adjust(hspace = -0.11)\n",
    "\n",
    "    axs = axs.ravel()\n",
    "\n",
    "    for channel in range(12):\n",
    "        axs[channel].plot(range(len(waves[:, channel])), waves[:, channel])\n",
    "        axs[channel].set_ylabel(signals[channel], fontsize=14, rotation=0, labelpad=20)\n",
    "        axs[channel].set_ylim(ylim_bot, ylim_top)"
   ]
  },
  {
   "cell_type": "markdown",
   "id": "37114abd",
   "metadata": {},
   "source": [
    "Example of a complete 10 second ECG:"
   ]
  },
  {
   "cell_type": "code",
   "execution_count": 12,
   "id": "4819ce97",
   "metadata": {},
   "outputs": [
    {
     "data": {
      "image/png": "[encoded data removed]",
      "text/plain": [
       "<Figure size 1152x1440 with 12 Axes>"
      ]
     },
     "metadata": {},
     "output_type": "display_data"
    }
   ],
   "source": [
    "plot_ecg(X[0])"
   ]
  },
  {
   "cell_type": "markdown",
   "id": "41e9f907",
   "metadata": {},
   "source": [
    "Example of the same ECG but cut into only 3 seconds:"
   ]
  },
  {
   "cell_type": "code",
   "execution_count": 13,
   "id": "a7715e08",
   "metadata": {},
   "outputs": [
    {
     "data": {
      "image/png": "[encoded data removed]",
      "text/plain": [
       "<Figure size 432x1440 with 12 Axes>"
      ]
     },
     "metadata": {},
     "output_type": "display_data"
    }
   ],
   "source": [
    "plot_ecg(X[0, :300], figsize=(6,20))"
   ]
  },
  {
   "cell_type": "markdown",
   "id": "195d18f8",
   "metadata": {},
   "source": [
    "### Crossing files\n",
    "\n",
    "This section serves to help us make intersection between the file **scp_statements.csv**, which contains information and the "
   ]
  },
  {
   "cell_type": "markdown",
   "id": "a6fce400",
   "metadata": {},
   "source": [
    "### EDA"
   ]
  },
  {
   "cell_type": "markdown",
   "id": "ff6d5a24",
   "metadata": {},
   "source": [
    "First, let's observe at how the diagnosis superclasses are distributed. We can appretiate that ECGs are not neccesarily classified with only one diagnosis, but rather can have many:"
   ]
  },
  {
   "cell_type": "code",
   "execution_count": 14,
   "id": "53c7b294",
   "metadata": {},
   "outputs": [
    {
     "data": {
      "image/png": "[encoded data removed]",
      "text/plain": [
       "<Figure size 432x288 with 1 Axes>"
      ]
     },
     "metadata": {
      "needs_background": "light"
     },
     "output_type": "display_data"
    }
   ],
   "source": [
    "diag_lens = Y.diagnostic_superclass.apply(lambda x : len(x))\n",
    "diag_vc = diag_lens.value_counts()\n",
    "fig, ax = plt.subplots()\n",
    "\n",
    "ax.bar(np.array(range(len(diag_vc)))+1, diag_vc)\n",
    "ax.set_title(\"ECGs Diagnosis' Counts\", fontsize=16, y = 1.01);"
   ]
  },
  {
   "cell_type": "markdown",
   "id": "129f12a9",
   "metadata": {},
   "source": [
    "Among these superclasses, there are some that are of major interest: **MI** and **STTC**."
   ]
  },
  {
   "cell_type": "code",
   "execution_count": 15,
   "id": "b3f8c11e",
   "metadata": {},
   "outputs": [
    {
     "data": {
      "text/plain": [
       "{'CD', 'HYP', 'MI', 'NORM', 'STTC'}"
      ]
     },
     "execution_count": 15,
     "metadata": {},
     "output_type": "execute_result"
    }
   ],
   "source": [
    "superclasses = set(agg_df.diagnostic_class)\n",
    "superclasses"
   ]
  },
  {
   "cell_type": "markdown",
   "id": "572d0e2b",
   "metadata": {},
   "source": [
    "We create a OHE to ceheck intersections."
   ]
  },
  {
   "cell_type": "code",
   "execution_count": 16,
   "id": "8c37dc53",
   "metadata": {},
   "outputs": [],
   "source": [
    "superclasses_df = pd.DataFrame(columns = superclasses)\n",
    "\n",
    "for i in range(len(Y.diagnostic_superclass)):\n",
    "    \n",
    "    class_aux = pd.DataFrame(index = [0], columns = superclasses)\n",
    "    \n",
    "    for sc in Y.diagnostic_superclass.iloc[i]:\n",
    "        class_aux.loc[0, sc] = 1\n",
    "        \n",
    "        \n",
    "    superclasses_df = pd.concat([superclasses_df, class_aux])\n",
    "    \n",
    "superclasses_df = superclasses_df.fillna(0)"
   ]
  },
  {
   "cell_type": "code",
   "execution_count": 17,
   "id": "42d153ae",
   "metadata": {},
   "outputs": [
    {
     "data": {
      "text/html": [
       "<div>\n",
       "<style scoped>\n",
       "    .dataframe tbody tr th:only-of-type {\n",
       "        vertical-align: middle;\n",
       "    }\n",
       "\n",
       "    .dataframe tbody tr th {\n",
       "        vertical-align: top;\n",
       "    }\n",
       "\n",
       "    .dataframe thead th {\n",
       "        text-align: right;\n",
       "    }\n",
       "</style>\n",
       "<table border=\"1\" class=\"dataframe\">\n",
       "  <thead>\n",
       "    <tr style=\"text-align: right;\">\n",
       "      <th></th>\n",
       "      <th>MI</th>\n",
       "      <th>HYP</th>\n",
       "      <th>STTC</th>\n",
       "      <th>NORM</th>\n",
       "      <th>CD</th>\n",
       "    </tr>\n",
       "  </thead>\n",
       "  <tbody>\n",
       "    <tr>\n",
       "      <th>0</th>\n",
       "      <td>0</td>\n",
       "      <td>0</td>\n",
       "      <td>0</td>\n",
       "      <td>1</td>\n",
       "      <td>0</td>\n",
       "    </tr>\n",
       "    <tr>\n",
       "      <th>0</th>\n",
       "      <td>0</td>\n",
       "      <td>0</td>\n",
       "      <td>0</td>\n",
       "      <td>1</td>\n",
       "      <td>0</td>\n",
       "    </tr>\n",
       "    <tr>\n",
       "      <th>0</th>\n",
       "      <td>0</td>\n",
       "      <td>0</td>\n",
       "      <td>0</td>\n",
       "      <td>1</td>\n",
       "      <td>0</td>\n",
       "    </tr>\n",
       "    <tr>\n",
       "      <th>0</th>\n",
       "      <td>0</td>\n",
       "      <td>0</td>\n",
       "      <td>0</td>\n",
       "      <td>1</td>\n",
       "      <td>0</td>\n",
       "    </tr>\n",
       "    <tr>\n",
       "      <th>0</th>\n",
       "      <td>0</td>\n",
       "      <td>0</td>\n",
       "      <td>0</td>\n",
       "      <td>1</td>\n",
       "      <td>0</td>\n",
       "    </tr>\n",
       "    <tr>\n",
       "      <th>...</th>\n",
       "      <td>...</td>\n",
       "      <td>...</td>\n",
       "      <td>...</td>\n",
       "      <td>...</td>\n",
       "      <td>...</td>\n",
       "    </tr>\n",
       "    <tr>\n",
       "      <th>0</th>\n",
       "      <td>0</td>\n",
       "      <td>0</td>\n",
       "      <td>1</td>\n",
       "      <td>0</td>\n",
       "      <td>0</td>\n",
       "    </tr>\n",
       "    <tr>\n",
       "      <th>0</th>\n",
       "      <td>0</td>\n",
       "      <td>0</td>\n",
       "      <td>0</td>\n",
       "      <td>1</td>\n",
       "      <td>0</td>\n",
       "    </tr>\n",
       "    <tr>\n",
       "      <th>0</th>\n",
       "      <td>0</td>\n",
       "      <td>0</td>\n",
       "      <td>1</td>\n",
       "      <td>0</td>\n",
       "      <td>0</td>\n",
       "    </tr>\n",
       "    <tr>\n",
       "      <th>0</th>\n",
       "      <td>0</td>\n",
       "      <td>0</td>\n",
       "      <td>0</td>\n",
       "      <td>1</td>\n",
       "      <td>0</td>\n",
       "    </tr>\n",
       "    <tr>\n",
       "      <th>0</th>\n",
       "      <td>0</td>\n",
       "      <td>0</td>\n",
       "      <td>0</td>\n",
       "      <td>1</td>\n",
       "      <td>0</td>\n",
       "    </tr>\n",
       "  </tbody>\n",
       "</table>\n",
       "<p>21837 rows × 5 columns</p>\n",
       "</div>"
      ],
      "text/plain": [
       "    MI  HYP  STTC  NORM  CD\n",
       "0    0    0     0     1   0\n",
       "0    0    0     0     1   0\n",
       "0    0    0     0     1   0\n",
       "0    0    0     0     1   0\n",
       "0    0    0     0     1   0\n",
       "..  ..  ...   ...   ...  ..\n",
       "0    0    0     1     0   0\n",
       "0    0    0     0     1   0\n",
       "0    0    0     1     0   0\n",
       "0    0    0     0     1   0\n",
       "0    0    0     0     1   0\n",
       "\n",
       "[21837 rows x 5 columns]"
      ]
     },
     "execution_count": 17,
     "metadata": {},
     "output_type": "execute_result"
    }
   ],
   "source": [
    "superclasses_df"
   ]
  },
  {
   "cell_type": "markdown",
   "id": "2d67a3b9",
   "metadata": {},
   "source": [
    "As we can see, there are several intersections between MI & STTC."
   ]
  },
  {
   "cell_type": "code",
   "execution_count": 18,
   "id": "34ed35a6",
   "metadata": {},
   "outputs": [
    {
     "name": "stdout",
     "output_type": "stream",
     "text": [
      "Total MI registers: 5486\n",
      "Total STTC registers: 5250\n",
      "Total NORM registers: 9528\n",
      "\n",
      "Total MI & STTC registers: 1345\n",
      "Total MI & NORM registers: 1\n",
      "Total STTC & NORM registers: 33\n"
     ]
    }
   ],
   "source": [
    "val = 'MI'\n",
    "print(f'Total {val} registers:', sum(superclasses_df[val] == 1))\n",
    "val = 'STTC'\n",
    "print(f'Total {val} registers:', sum(superclasses_df[val] == 1))\n",
    "val = 'NORM'\n",
    "print(f'Total {val} registers:', sum(superclasses_df[val] == 1))\n",
    "\n",
    "print()\n",
    "\n",
    "val1, val2 = 'MI', 'STTC'\n",
    "print(f'Total {val1} & {val2} registers:', sum((superclasses_df[val1] == 1) & (superclasses_df[val2] == 1)))\n",
    "val1, val2 = 'MI', 'NORM'\n",
    "print(f'Total {val1} & {val2} registers:', sum((superclasses_df[val1] == 1) & (superclasses_df[val2] == 1)))\n",
    "val1, val2 = 'STTC', 'NORM'\n",
    "print(f'Total {val1} & {val2} registers:', sum((superclasses_df[val1] == 1) & (superclasses_df[val2] == 1)))"
   ]
  },
  {
   "cell_type": "markdown",
   "id": "5e1e1ae6",
   "metadata": {},
   "source": [
    "we will stratify based on MI, STTC and other."
   ]
  },
  {
   "cell_type": "code",
   "execution_count": 32,
   "id": "2c78b051",
   "metadata": {
    "scrolled": true
   },
   "outputs": [
    {
     "name": "stdout",
     "output_type": "stream",
     "text": [
      "(21837, 5)\n"
     ]
    },
    {
     "data": {
      "text/html": [
       "<div>\n",
       "<style scoped>\n",
       "    .dataframe tbody tr th:only-of-type {\n",
       "        vertical-align: middle;\n",
       "    }\n",
       "\n",
       "    .dataframe tbody tr th {\n",
       "        vertical-align: top;\n",
       "    }\n",
       "\n",
       "    .dataframe thead th {\n",
       "        text-align: right;\n",
       "    }\n",
       "</style>\n",
       "<table border=\"1\" class=\"dataframe\">\n",
       "  <thead>\n",
       "    <tr style=\"text-align: right;\">\n",
       "      <th></th>\n",
       "      <th>MI</th>\n",
       "      <th>STTC</th>\n",
       "      <th>MI&amp;STTC</th>\n",
       "      <th>OTHER</th>\n",
       "      <th>label</th>\n",
       "    </tr>\n",
       "  </thead>\n",
       "  <tbody>\n",
       "    <tr>\n",
       "      <th>1</th>\n",
       "      <td>0</td>\n",
       "      <td>0</td>\n",
       "      <td>0</td>\n",
       "      <td>1</td>\n",
       "      <td>OTHER</td>\n",
       "    </tr>\n",
       "    <tr>\n",
       "      <th>2</th>\n",
       "      <td>0</td>\n",
       "      <td>0</td>\n",
       "      <td>0</td>\n",
       "      <td>1</td>\n",
       "      <td>OTHER</td>\n",
       "    </tr>\n",
       "    <tr>\n",
       "      <th>3</th>\n",
       "      <td>0</td>\n",
       "      <td>0</td>\n",
       "      <td>0</td>\n",
       "      <td>1</td>\n",
       "      <td>OTHER</td>\n",
       "    </tr>\n",
       "    <tr>\n",
       "      <th>4</th>\n",
       "      <td>0</td>\n",
       "      <td>0</td>\n",
       "      <td>0</td>\n",
       "      <td>1</td>\n",
       "      <td>OTHER</td>\n",
       "    </tr>\n",
       "    <tr>\n",
       "      <th>5</th>\n",
       "      <td>0</td>\n",
       "      <td>0</td>\n",
       "      <td>0</td>\n",
       "      <td>1</td>\n",
       "      <td>OTHER</td>\n",
       "    </tr>\n",
       "  </tbody>\n",
       "</table>\n",
       "</div>"
      ],
      "text/plain": [
       "   MI  STTC  MI&STTC  OTHER  label\n",
       "1   0     0        0      1  OTHER\n",
       "2   0     0        0      1  OTHER\n",
       "3   0     0        0      1  OTHER\n",
       "4   0     0        0      1  OTHER\n",
       "5   0     0        0      1  OTHER"
      ]
     },
     "execution_count": 32,
     "metadata": {},
     "output_type": "execute_result"
    }
   ],
   "source": [
    "# Copy and keep only the classes of interest\n",
    "strat_df = superclasses_df.copy()\n",
    "strat_df = strat_df.reset_index()\n",
    "strat_df.index = strat_df.index + 1\n",
    "strat_df = strat_df[['MI', 'STTC']]\n",
    "\n",
    "# Intersection between MI & STTC\n",
    "strat_df['MI&STTC'] = (strat_df['MI'] == 1) & (strat_df['STTC'] == 1)\n",
    "strat_df['MI&STTC'] = strat_df['MI&STTC'].astype(int)\n",
    "\n",
    "# Correct MI and STTC columns given an intersection\n",
    "strat_df['MI'] = strat_df['MI'] - strat_df['MI&STTC']\n",
    "strat_df['STTC'] = strat_df['STTC'] - strat_df['MI&STTC']\n",
    "\n",
    "# Create the OTHER column as the complement\n",
    "strat_df['OTHER'] = (strat_df['MI'] == 0) & (strat_df['STTC'] == 0) & (strat_df['MI&STTC'] == 0)\n",
    "strat_df['OTHER'] = strat_df['OTHER'].astype(int)\n",
    "\n",
    "# Add a label column \n",
    "strat_df['label'] = strat_df.idxmax(axis=1)\n",
    "print(strat_df.shape)\n",
    "strat_df.head()"
   ]
  },
  {
   "cell_type": "code",
   "execution_count": 38,
   "id": "d21f74cc",
   "metadata": {},
   "outputs": [
    {
     "data": {
      "text/html": [
       "<div>\n",
       "<style scoped>\n",
       "    .dataframe tbody tr th:only-of-type {\n",
       "        vertical-align: middle;\n",
       "    }\n",
       "\n",
       "    .dataframe tbody tr th {\n",
       "        vertical-align: top;\n",
       "    }\n",
       "\n",
       "    .dataframe thead th {\n",
       "        text-align: right;\n",
       "    }\n",
       "</style>\n",
       "<table border=\"1\" class=\"dataframe\">\n",
       "  <thead>\n",
       "    <tr style=\"text-align: right;\">\n",
       "      <th></th>\n",
       "      <th>MI</th>\n",
       "      <th>STTC</th>\n",
       "      <th>MI&amp;STTC</th>\n",
       "      <th>OTHER</th>\n",
       "      <th>label</th>\n",
       "    </tr>\n",
       "  </thead>\n",
       "  <tbody>\n",
       "    <tr>\n",
       "      <th>2269</th>\n",
       "      <td>1</td>\n",
       "      <td>0</td>\n",
       "      <td>0</td>\n",
       "      <td>0</td>\n",
       "      <td>MI</td>\n",
       "    </tr>\n",
       "    <tr>\n",
       "      <th>13209</th>\n",
       "      <td>1</td>\n",
       "      <td>0</td>\n",
       "      <td>0</td>\n",
       "      <td>0</td>\n",
       "      <td>MI</td>\n",
       "    </tr>\n",
       "    <tr>\n",
       "      <th>14458</th>\n",
       "      <td>1</td>\n",
       "      <td>0</td>\n",
       "      <td>0</td>\n",
       "      <td>0</td>\n",
       "      <td>MI</td>\n",
       "    </tr>\n",
       "    <tr>\n",
       "      <th>12260</th>\n",
       "      <td>1</td>\n",
       "      <td>0</td>\n",
       "      <td>0</td>\n",
       "      <td>0</td>\n",
       "      <td>MI</td>\n",
       "    </tr>\n",
       "    <tr>\n",
       "      <th>5153</th>\n",
       "      <td>1</td>\n",
       "      <td>0</td>\n",
       "      <td>0</td>\n",
       "      <td>0</td>\n",
       "      <td>MI</td>\n",
       "    </tr>\n",
       "  </tbody>\n",
       "</table>\n",
       "</div>"
      ],
      "text/plain": [
       "       MI  STTC  MI&STTC  OTHER label\n",
       "2269    1     0        0      0    MI\n",
       "13209   1     0        0      0    MI\n",
       "14458   1     0        0      0    MI\n",
       "12260   1     0        0      0    MI\n",
       "5153    1     0        0      0    MI"
      ]
     },
     "execution_count": 38,
     "metadata": {},
     "output_type": "execute_result"
    }
   ],
   "source": [
    "strat_df[strat_df['MI'] == 1].sample(5, random_state=random_state)"
   ]
  },
  {
   "cell_type": "markdown",
   "id": "71e590b2",
   "metadata": {},
   "source": [
    "### Training classifier"
   ]
  },
  {
   "cell_type": "markdown",
   "id": "4ad61eff",
   "metadata": {},
   "source": [
    "We will now try to predict the diagnosis superclass based on the 12 leads."
   ]
  },
  {
   "cell_type": "markdown",
   "id": "f726b06b",
   "metadata": {},
   "source": [
    "#### Improvements\n",
    "\n",
    "    1. Still no standard scaler\n",
    "    2. There must be some tweaks to the CNN we can do.\n",
    "        a. Check how to not lose info given strides.\n",
    "        b. Droput, L1 Reg, different activations, Batch Norm, etc.\n",
    "    3. Try other arquitectures"
   ]
  },
  {
   "cell_type": "markdown",
   "id": "404c214d",
   "metadata": {},
   "source": [
    "#### Data Preprocessing\n",
    "\n",
    "We train a very simple classifer. We will use a CNN considering we have n * 12 matrices, where n is the sample size for each signal. In order to make some quick progress, we will cut the original size of n = 1000 to n' = 300, that is, we only take 3 second leads."
   ]
  },
  {
   "cell_type": "code",
   "execution_count": 18,
   "id": "ea5c02c2",
   "metadata": {},
   "outputs": [],
   "source": [
    "X_3sec = X[:,:300,:]"
   ]
  },
  {
   "cell_type": "code",
   "execution_count": 21,
   "id": "5cef1ad8",
   "metadata": {},
   "outputs": [],
   "source": [
    "random.seed(1234)\n",
    "\n",
    "val_size = 0.2\n",
    "test_size = 0.2\n",
    "\n",
    "# Train and test\n",
    "train_set_x, test_set_x = train_test_split(X_3sec, stratify=strat_df['label'], test_size=test_size, random_state=random_state)\n",
    "train_set_y, test_set_y = train_test_split(Y, stratify=strat_df['label'], test_size=test_size, random_state=random_state)\n",
    "# Train and val\n",
    "train_set_x, val_set_x = train_test_split(train_set_x, stratify=strat_df['label'][train_set_y.index], test_size=val_size, random_state=random_state)\n",
    "train_set_y, val_set_y = train_test_split(train_set_y, stratify=strat_df['label'][train_set_y.index], test_size=val_size, random_state=random_state)\n",
    "\n",
    "n_total_train = train_set_x.shape[0]\n",
    "\n",
    "train_set_y = strat_df[['MI', 'STTC', 'OTHER']].loc[train_set_y.index]\n",
    "train_set_y = np.array(train_set_y)\n",
    "\n",
    "val_set_y = strat_df[['MI', 'STTC', 'OTHER']].loc[val_set_y.index]\n",
    "val_set_y = np.array(val_set_y)\n",
    "\n",
    "test_set_y = strat_df[['MI', 'STTC', 'OTHER']].loc[test_set_y.index]\n",
    "test_set_y = np.array(test_set_y)"
   ]
  },
  {
   "cell_type": "code",
   "execution_count": 22,
   "id": "047314d4",
   "metadata": {},
   "outputs": [
    {
     "name": "stdout",
     "output_type": "stream",
     "text": [
      "(13975, 3)\n",
      "(3494, 3)\n",
      "(4368, 3)\n"
     ]
    }
   ],
   "source": [
    "print(train_set_y.shape)\n",
    "print(val_set_y.shape)\n",
    "print(test_set_y.shape)"
   ]
  },
  {
   "cell_type": "code",
   "execution_count": 23,
   "id": "6d2a555c",
   "metadata": {},
   "outputs": [
    {
     "data": {
      "text/plain": [
       "(21837, 300, 12)"
      ]
     },
     "execution_count": 23,
     "metadata": {},
     "output_type": "execute_result"
    }
   ],
   "source": [
    "X_3sec.shape"
   ]
  },
  {
   "cell_type": "markdown",
   "id": "381c3da2",
   "metadata": {},
   "source": [
    "#### CNN Implementation"
   ]
  },
  {
   "cell_type": "code",
   "execution_count": 54,
   "id": "8a03c636",
   "metadata": {},
   "outputs": [],
   "source": [
    "import tensorflow as tf\n",
    "\n",
    "from tensorflow.keras.models import Sequential, Model\n",
    "from tensorflow.keras.layers import InputLayer\n",
    "from tensorflow.keras.layers import Conv2D, Conv1D, MaxPool1D, MaxPool2D\n",
    "from tensorflow.keras.layers import Dense, Flatten#, Concatenate\n",
    "from tensorflow.keras.callbacks import EarlyStopping"
   ]
  },
  {
   "cell_type": "code",
   "execution_count": 36,
   "id": "410e2c00",
   "metadata": {},
   "outputs": [],
   "source": [
    "batch_size = 64\n",
    "IMG_H = X_3sec.shape[1]\n",
    "IMG_W = X_3sec.shape[2]\n",
    "\n",
    "optimizer = 'adam'"
   ]
  },
  {
   "cell_type": "code",
   "execution_count": 37,
   "id": "84e23209",
   "metadata": {},
   "outputs": [
    {
     "data": {
      "text/plain": [
       "12"
      ]
     },
     "execution_count": 37,
     "metadata": {},
     "output_type": "execute_result"
    }
   ],
   "source": [
    "IMG_W"
   ]
  },
  {
   "cell_type": "code",
   "execution_count": 44,
   "id": "eea0dded",
   "metadata": {},
   "outputs": [
    {
     "data": {
      "text/plain": [
       "(13975, 300, 12)"
      ]
     },
     "execution_count": 44,
     "metadata": {},
     "output_type": "execute_result"
    }
   ],
   "source": [
    "train_set_x.shape"
   ]
  },
  {
   "cell_type": "code",
   "execution_count": 45,
   "id": "c224417d",
   "metadata": {
    "scrolled": true
   },
   "outputs": [
    {
     "data": {
      "text/plain": [
       "-20.032"
      ]
     },
     "execution_count": 45,
     "metadata": {},
     "output_type": "execute_result"
    }
   ],
   "source": [
    "train_set_x.min()"
   ]
  },
  {
   "cell_type": "code",
   "execution_count": 46,
   "id": "cd76d30f",
   "metadata": {
    "scrolled": true
   },
   "outputs": [
    {
     "data": {
      "text/plain": [
       "12.966"
      ]
     },
     "execution_count": 46,
     "metadata": {},
     "output_type": "execute_result"
    }
   ],
   "source": [
    "train_set_x.max()"
   ]
  },
  {
   "cell_type": "code",
   "execution_count": 48,
   "id": "4bde1140",
   "metadata": {},
   "outputs": [
    {
     "data": {
      "text/plain": [
       "(13975, 3)"
      ]
     },
     "execution_count": 48,
     "metadata": {},
     "output_type": "execute_result"
    }
   ],
   "source": [
    "train_set_y.shape"
   ]
  },
  {
   "cell_type": "code",
   "execution_count": 51,
   "id": "d8371ed2",
   "metadata": {},
   "outputs": [
    {
     "data": {
      "text/plain": [
       "array([3511, 3355, 7965], dtype=int64)"
      ]
     },
     "execution_count": 51,
     "metadata": {},
     "output_type": "execute_result"
    }
   ],
   "source": [
    "train_set_y.sum(0)"
   ]
  },
  {
   "cell_type": "code",
   "execution_count": 38,
   "id": "11debab5",
   "metadata": {
    "scrolled": true
   },
   "outputs": [
    {
     "name": "stdout",
     "output_type": "stream",
     "text": [
      "Model: \"sequential_1\"\n",
      "_________________________________________________________________\n",
      " Layer (type)                Output Shape              Param #   \n",
      "=================================================================\n",
      " conv2d_4 (Conv2D)           (None, 100, 12, 64)       320       \n",
      "                                                                 \n",
      " conv2d_5 (Conv2D)           (None, 34, 12, 128)       32896     \n",
      "                                                                 \n",
      " conv2d_6 (Conv2D)           (None, 12, 12, 256)       131328    \n",
      "                                                                 \n",
      " max_pooling2d_1 (MaxPooling  (None, 6, 6, 256)        0         \n",
      " 2D)                                                             \n",
      "                                                                 \n",
      " flatten_2 (Flatten)         (None, 9216)              0         \n",
      "                                                                 \n",
      " dense_4 (Dense)             (None, 128)               1179776   \n",
      "                                                                 \n",
      " dense_5 (Dense)             (None, 3)                 387       \n",
      "                                                                 \n",
      "=================================================================\n",
      "Total params: 1,344,707\n",
      "Trainable params: 1,344,707\n",
      "Non-trainable params: 0\n",
      "_________________________________________________________________\n"
     ]
    }
   ],
   "source": [
    "CNN = Sequential([\n",
    "    InputLayer(input_shape=(IMG_H, IMG_W, 1)),\n",
    "#     InputLayer(input_shape=(IMG_H, IMG_W, 3)), # For 3 channels\n",
    "    \n",
    "    Conv2D(64, 2, activation='relu', strides=(3, 1), padding=\"same\"),\n",
    "#     MaxPool2D(),\n",
    "\n",
    "    Conv2D(128, 2, activation='relu', strides=(3, 1), padding=\"same\"),\n",
    "#     MaxPool2D(),\n",
    "\n",
    "    Conv2D(256, 2, activation='relu', strides=(3, 1), padding=\"same\"),\n",
    "    MaxPool2D(),\n",
    "\n",
    "    #Conv2D(64, 3, activation='relu'),\n",
    "    #MaxPool2D(),\n",
    "\n",
    "    Flatten(),\n",
    "    Dense(128, activation='relu'),\n",
    "    Dense(3, activation='softmax')\n",
    "])\n",
    "\n",
    "CNN.summary()"
   ]
  },
  {
   "cell_type": "code",
   "execution_count": 69,
   "id": "c4ff70fe",
   "metadata": {
    "scrolled": false
   },
   "outputs": [
    {
     "name": "stdout",
     "output_type": "stream",
     "text": [
      "Model: \"sequential_6\"\n",
      "_________________________________________________________________\n",
      " Layer (type)                Output Shape              Param #   \n",
      "=================================================================\n",
      " conv1d_12 (Conv1D)          (None, 300, 64)           2368      \n",
      "                                                                 \n",
      " max_pooling1d_3 (MaxPooling  (None, 150, 64)          0         \n",
      " 1D)                                                             \n",
      "                                                                 \n",
      " conv1d_13 (Conv1D)          (None, 150, 128)          24704     \n",
      "                                                                 \n",
      " max_pooling1d_4 (MaxPooling  (None, 75, 128)          0         \n",
      " 1D)                                                             \n",
      "                                                                 \n",
      " conv1d_14 (Conv1D)          (None, 75, 256)           98560     \n",
      "                                                                 \n",
      " max_pooling1d_5 (MaxPooling  (None, 37, 256)          0         \n",
      " 1D)                                                             \n",
      "                                                                 \n",
      " flatten_7 (Flatten)         (None, 9472)              0         \n",
      "                                                                 \n",
      " dense_14 (Dense)            (None, 128)               1212544   \n",
      "                                                                 \n",
      " dense_15 (Dense)            (None, 3)                 387       \n",
      "                                                                 \n",
      "=================================================================\n",
      "Total params: 1,338,563\n",
      "Trainable params: 1,338,563\n",
      "Non-trainable params: 0\n",
      "_________________________________________________________________\n"
     ]
    }
   ],
   "source": [
    "CNN = Sequential([\n",
    "    InputLayer(input_shape=(IMG_H, IMG_W)),\n",
    "#     InputLayer(input_shape=(IMG_H, IMG_W, 3)), # For 3 channels\n",
    "    \n",
    "    Conv1D(64, 3, activation='relu', strides=1, padding=\"same\"),\n",
    "    MaxPool1D(),\n",
    "\n",
    "    Conv1D(128, 3, activation='relu', strides=1, padding=\"same\"),\n",
    "    MaxPool1D(),\n",
    "\n",
    "    Conv1D(256, 3, activation='relu', strides=1, padding=\"same\"),\n",
    "    MaxPool1D(),\n",
    "\n",
    "    #Conv1D(64, 3, activation='relu'),\n",
    "    #MaxPool2D(),\n",
    "\n",
    "    Flatten(),\n",
    "    Dense(128, activation='relu'),\n",
    "    Dense(3, activation='sigmoid')\n",
    "])\n",
    "\n",
    "CNN.summary()"
   ]
  },
  {
   "cell_type": "code",
   "execution_count": 70,
   "id": "018cd77c",
   "metadata": {
    "scrolled": false
   },
   "outputs": [
    {
     "name": "stdout",
     "output_type": "stream",
     "text": [
      "Epoch 1/50\n",
      "218/218 [==============================] - 16s 73ms/step - loss: 0.4631 - accuracy: 0.6685 - val_loss: 0.3888 - val_accuracy: 0.7533\n",
      "Epoch 2/50\n",
      "218/218 [==============================] - 17s 78ms/step - loss: 0.3577 - accuracy: 0.7663 - val_loss: 0.3571 - val_accuracy: 0.7705\n",
      "Epoch 3/50\n",
      "218/218 [==============================] - 16s 74ms/step - loss: 0.3200 - accuracy: 0.7936 - val_loss: 0.3494 - val_accuracy: 0.7636\n",
      "Epoch 4/50\n",
      "218/218 [==============================] - 15s 71ms/step - loss: 0.2929 - accuracy: 0.8121 - val_loss: 0.3553 - val_accuracy: 0.7725\n",
      "Epoch 5/50\n",
      "218/218 [==============================] - 15s 71ms/step - loss: 0.2689 - accuracy: 0.8234 - val_loss: 0.3548 - val_accuracy: 0.7845\n",
      "Epoch 6/50\n",
      "218/218 [==============================] - 16s 73ms/step - loss: 0.2411 - accuracy: 0.8418 - val_loss: 0.3789 - val_accuracy: 0.7765\n",
      "Epoch 7/50\n",
      "218/218 [==============================] - 15s 67ms/step - loss: 0.2053 - accuracy: 0.8646 - val_loss: 0.4106 - val_accuracy: 0.7750\n",
      "Epoch 8/50\n",
      "218/218 [==============================] - 15s 71ms/step - loss: 0.1633 - accuracy: 0.8919 - val_loss: 0.4652 - val_accuracy: 0.7750\n",
      "Epoch 9/50\n",
      "218/218 [==============================] - 16s 75ms/step - loss: 0.1281 - accuracy: 0.9158 - val_loss: 0.4920 - val_accuracy: 0.7739\n",
      "Epoch 10/50\n",
      "218/218 [==============================] - 18s 82ms/step - loss: 0.0871 - accuracy: 0.9384 - val_loss: 0.5890 - val_accuracy: 0.7647\n"
     ]
    }
   ],
   "source": [
    "# Compile: Define training parameters\n",
    "CNN.compile(optimizer=optimizer, loss='binary_crossentropy', metrics=['accuracy'])\n",
    "\n",
    "# Train model\n",
    "EPOCHS = 50\n",
    "BATCHES = n_total_train//batch_size\n",
    "\n",
    "### Following line overflows memory\n",
    "fitted_model = CNN.fit(train_set_x, train_set_y, steps_per_epoch=BATCHES,\n",
    "                       epochs=EPOCHS, validation_data=(val_set_x, val_set_y),\n",
    "                      callbacks=[EarlyStopping(monitor='val_accuracy', patience=5)])"
   ]
  },
  {
   "cell_type": "markdown",
   "id": "daeab0bf",
   "metadata": {},
   "source": [
    "### Encoder"
   ]
  },
  {
   "cell_type": "markdown",
   "id": "48e13742",
   "metadata": {},
   "source": [
    "We also want to check if another architecture helps us classify the signals. We will use autoencoders to both:\n",
    "    1. Plot the feature space, separating by color\n",
    "    2. Plot the loss density functions, separating by color"
   ]
  },
  {
   "cell_type": "code",
   "execution_count": 71,
   "id": "683e5b75",
   "metadata": {},
   "outputs": [],
   "source": [
    "from tensorflow.keras.layers import Input, Flatten, Layer, Reshape, Conv2DTranspose, Conv1DTranspose\n",
    "from tensorflow.keras.regularizers import l1\n",
    "from tensorflow.keras.metrics import Mean"
   ]
  },
  {
   "cell_type": "code",
   "execution_count": 72,
   "id": "4cdd9d45",
   "metadata": {},
   "outputs": [],
   "source": [
    "latent_dim = 2\n",
    "\n",
    "# Create a custom layer for sampling\n",
    "class Sampling(Layer):\n",
    "    \"\"\"Uses (z_mean, z_log_var) to sample z, the vector encoding a digit.\"\"\"\n",
    "\n",
    "    def call(self, inputs):\n",
    "        z_mean, z_log_var = inputs\n",
    "        batch = tf.shape(z_mean)[0]\n",
    "        dim = tf.shape(z_mean)[1]\n",
    "        epsilon = tf.keras.backend.random_normal(shape=(batch, dim))\n",
    "        return z_mean + tf.exp(0.5 * z_log_var) * epsilon\n",
    "\n",
    "# Create base VAE model as a class, with a custom train_step\n",
    "class VAE(Model):\n",
    "    def __init__(self, encoder, decoder, gamma, **kwargs):\n",
    "        super(VAE, self).__init__(**kwargs)\n",
    "        self.encoder = encoder\n",
    "        self.decoder = decoder\n",
    "        self.total_loss_tracker = Mean(name=\"total_loss\")\n",
    "        self.reconstruction_loss_tracker = Mean(name=\"reconstruction_loss\")\n",
    "        self.kl_loss_tracker = Mean(name=\"kl_loss\")\n",
    "        self.gamma = gamma\n",
    "\n",
    "    @property\n",
    "    def metrics(self):\n",
    "        return [\n",
    "            self.total_loss_tracker,\n",
    "            self.reconstruction_loss_tracker,\n",
    "            self.kl_loss_tracker,\n",
    "        ]\n",
    "\n",
    "    def train_step(self, data):\n",
    "        with tf.GradientTape() as tape:\n",
    "            z_mean, z_log_var, z = self.encoder(data)\n",
    "            reconstruction = self.decoder(z)\n",
    "            reconstruction_loss = tf.reduce_mean(\n",
    "              tf.reduce_sum(tf.keras.losses.binary_crossentropy(data, reconstruction))\n",
    "            )\n",
    "            kl_loss = -0.5 * (1 + z_log_var - tf.square(z_mean) - tf.exp(z_log_var))\n",
    "            kl_loss = tf.reduce_mean(tf.reduce_sum(kl_loss, axis=1))\n",
    "            total_loss = reconstruction_loss + self.gamma * kl_loss\n",
    "\n",
    "        grads = tape.gradient(total_loss, self.trainable_weights)\n",
    "        self.optimizer.apply_gradients(zip(grads, self.trainable_weights))\n",
    "        self.total_loss_tracker.update_state(total_loss)\n",
    "        self.reconstruction_loss_tracker.update_state(reconstruction_loss)\n",
    "        self.kl_loss_tracker.update_state(kl_loss)\n",
    "\n",
    "        return {\n",
    "          \"loss\": self.total_loss_tracker.result(),\n",
    "          \"reconstruction_loss\": self.reconstruction_loss_tracker.result(),\n",
    "          \"kl_loss\": self.kl_loss_tracker.result(),\n",
    "        }"
   ]
  },
  {
   "cell_type": "code",
   "execution_count": 31,
   "id": "7f9769c5",
   "metadata": {
    "scrolled": false
   },
   "outputs": [
    {
     "name": "stdout",
     "output_type": "stream",
     "text": [
      "Model: \"encoder\"\n",
      "__________________________________________________________________________________________________\n",
      " Layer (type)                   Output Shape         Param #     Connected to                     \n",
      "==================================================================================================\n",
      " input_2 (InputLayer)           [(None, 300, 12, 1)  0           []                               \n",
      "                                ]                                                                 \n",
      "                                                                                                  \n",
      " conv2d_3 (Conv2D)              (None, 300, 12, 32)  320         ['input_2[0][0]']                \n",
      "                                                                                                  \n",
      " last_conv (Conv2D)             (None, 300, 12, 64)  18496       ['conv2d_3[0][0]']               \n",
      "                                                                                                  \n",
      " flatten_1 (Flatten)            (None, 230400)       0           ['last_conv[0][0]']              \n",
      "                                                                                                  \n",
      " dense_2 (Dense)                (None, 16)           3686416     ['flatten_1[0][0]']              \n",
      "                                                                                                  \n",
      " z_mean (Dense)                 (None, 2)            34          ['dense_2[0][0]']                \n",
      "                                                                                                  \n",
      " z_log_var (Dense)              (None, 2)            34          ['dense_2[0][0]']                \n",
      "                                                                                                  \n",
      " sampling (Sampling)            (None, 2)            0           ['z_mean[0][0]',                 \n",
      "                                                                  'z_log_var[0][0]']              \n",
      "                                                                                                  \n",
      "==================================================================================================\n",
      "Total params: 3,705,300\n",
      "Trainable params: 3,705,300\n",
      "Non-trainable params: 0\n",
      "__________________________________________________________________________________________________\n"
     ]
    }
   ],
   "source": [
    "# Encoder\n",
    "encoder_inputs = Input(shape=(train_set_x.shape[1],train_set_x.shape[2], 1))\n",
    "x = Conv2D(32, 3, activation=\"relu\", strides=(1,1), padding=\"same\")(encoder_inputs)\n",
    "x = Conv2D(64, 3, activation=\"relu\", strides=(1,1), padding=\"same\", name = \"last_conv\")(x)\n",
    "x = Flatten()(x)\n",
    "x = Dense(16, activation=\"relu\")(x)\n",
    "\n",
    "z_mean = Dense(latent_dim, name=\"z_mean\")(x)\n",
    "z_log_var = Dense(latent_dim, name=\"z_log_var\")(x)\n",
    "z = Sampling()([z_mean, z_log_var])\n",
    "\n",
    "encoder = Model(encoder_inputs, [z_mean, z_log_var, z], name=\"encoder\")\n",
    "encoder.summary()"
   ]
  },
  {
   "cell_type": "code",
   "execution_count": 87,
   "id": "3e1095f7",
   "metadata": {
    "scrolled": false
   },
   "outputs": [
    {
     "name": "stdout",
     "output_type": "stream",
     "text": [
      "Model: \"encoder\"\n",
      "__________________________________________________________________________________________________\n",
      " Layer (type)                   Output Shape         Param #     Connected to                     \n",
      "==================================================================================================\n",
      " input_20 (InputLayer)          [(None, 300, 12)]    0           []                               \n",
      "                                                                                                  \n",
      " conv1d_20 (Conv1D)             (None, 300, 32)      1184        ['input_20[0][0]']               \n",
      "                                                                                                  \n",
      " max_pooling1d_10 (MaxPooling1D  (None, 150, 32)     0           ['conv1d_20[0][0]']              \n",
      " )                                                                                                \n",
      "                                                                                                  \n",
      " last_conv (Conv1D)             (None, 150, 64)      6208        ['max_pooling1d_10[0][0]']       \n",
      "                                                                                                  \n",
      " max_pooling1d_11 (MaxPooling1D  (None, 75, 64)      0           ['last_conv[0][0]']              \n",
      " )                                                                                                \n",
      "                                                                                                  \n",
      " flatten_12 (Flatten)           (None, 4800)         0           ['max_pooling1d_11[0][0]']       \n",
      "                                                                                                  \n",
      " dense_25 (Dense)               (None, 16)           76816       ['flatten_12[0][0]']             \n",
      "                                                                                                  \n",
      " z_mean (Dense)                 (None, 2)            34          ['dense_25[0][0]']               \n",
      "                                                                                                  \n",
      " z_log_var (Dense)              (None, 2)            34          ['dense_25[0][0]']               \n",
      "                                                                                                  \n",
      " sampling_5 (Sampling)          (None, 2)            0           ['z_mean[0][0]',                 \n",
      "                                                                  'z_log_var[0][0]']              \n",
      "                                                                                                  \n",
      "==================================================================================================\n",
      "Total params: 84,276\n",
      "Trainable params: 84,276\n",
      "Non-trainable params: 0\n",
      "__________________________________________________________________________________________________\n"
     ]
    }
   ],
   "source": [
    "# Encoder\n",
    "encoder_inputs = Input(shape=(train_set_x.shape[1],train_set_x.shape[2]))\n",
    "x = Conv1D(32, 3, activation=\"relu\", strides=1, padding=\"same\")(encoder_inputs)\n",
    "x = MaxPool1D()(x)\n",
    "x = Conv1D(64, 3, activation=\"relu\", strides=1, padding=\"same\", name = \"last_conv\")(x)\n",
    "x = MaxPool1D()(x)\n",
    "x = Flatten()(x)\n",
    "x = Dense(16, activation=\"relu\")(x)\n",
    "\n",
    "z_mean = Dense(latent_dim, name=\"z_mean\")(x)\n",
    "z_log_var = Dense(latent_dim, name=\"z_log_var\")(x)\n",
    "z = Sampling()([z_mean, z_log_var])\n",
    "\n",
    "encoder = Model(encoder_inputs, [z_mean, z_log_var, z], name=\"encoder\")\n",
    "encoder.summary()"
   ]
  },
  {
   "cell_type": "code",
   "execution_count": 88,
   "id": "4cc70c60",
   "metadata": {},
   "outputs": [],
   "source": [
    "# Automatically get values from the previous layer to reshape\n",
    "last_conv = encoder.get_layer(\"last_conv\").get_output_at(0).get_shape().as_list()[1:]\n",
    "last_conv_dim = np.array(last_conv).cumprod()[-1]"
   ]
  },
  {
   "cell_type": "code",
   "execution_count": 89,
   "id": "5da4dbf5",
   "metadata": {},
   "outputs": [
    {
     "name": "stdout",
     "output_type": "stream",
     "text": [
      "Model: \"decoder\"\n",
      "_________________________________________________________________\n",
      " Layer (type)                Output Shape              Param #   \n",
      "=================================================================\n",
      " input_21 (InputLayer)       [(None, 2)]               0         \n",
      "                                                                 \n",
      " dense_26 (Dense)            (None, 9600)              28800     \n",
      "                                                                 \n",
      " reshape_6 (Reshape)         (None, 150, 64)           0         \n",
      "                                                                 \n",
      " conv1d_transpose_15 (Conv1D  (None, 150, 64)          4160      \n",
      " Transpose)                                                      \n",
      "                                                                 \n",
      " conv1d_transpose_16 (Conv1D  (None, 300, 32)          2080      \n",
      " Transpose)                                                      \n",
      "                                                                 \n",
      " conv1d_transpose_17 (Conv1D  (None, 300, 12)          1164      \n",
      " Transpose)                                                      \n",
      "                                                                 \n",
      "=================================================================\n",
      "Total params: 36,204\n",
      "Trainable params: 36,204\n",
      "Non-trainable params: 0\n",
      "_________________________________________________________________\n"
     ]
    }
   ],
   "source": [
    "# Decoder\n",
    "latent_inputs = Input(shape=(latent_dim,))\n",
    "x = Dense(last_conv_dim, activation=\"relu\")(latent_inputs)\n",
    "x = Reshape(last_conv)(x)\n",
    "x = Conv1DTranspose(64, 1, activation=\"relu\", strides=1, padding=\"same\")(x)\n",
    "x = Conv1DTranspose(32, 1, activation=\"relu\", strides=2, padding=\"same\")(x)\n",
    "decoder_outputs = Conv1DTranspose(12, 3, activation=\"linear\", padding=\"same\")(x)\n",
    "\n",
    "decoder = Model(latent_inputs, decoder_outputs, name=\"decoder\")\n",
    "decoder.summary()"
   ]
  },
  {
   "cell_type": "code",
   "execution_count": 105,
   "id": "8d9c4c75",
   "metadata": {},
   "outputs": [
    {
     "ename": "ValueError",
     "evalue": "Graph disconnected: cannot obtain value for tensor KerasTensor(type_spec=TensorSpec(shape=(None, 16), dtype=tf.float32, name='input_27'), name='input_27', description=\"created by layer 'input_27'\") at layer \"dense_32\". The following previous layers were accessed without issue: []",
     "output_type": "error",
     "traceback": [
      "\u001b[1;31m---------------------------------------------------------------------------\u001b[0m",
      "\u001b[1;31mValueError\u001b[0m                                Traceback (most recent call last)",
      "\u001b[1;32m<ipython-input-105-57d964361481>\u001b[0m in \u001b[0;36m<module>\u001b[1;34m\u001b[0m\n\u001b[1;32m----> 1\u001b[1;33m \u001b[0mae\u001b[0m \u001b[1;33m=\u001b[0m \u001b[0mModel\u001b[0m\u001b[1;33m(\u001b[0m\u001b[0mencoder_inputs\u001b[0m\u001b[1;33m,\u001b[0m \u001b[0mdecoder_outputs\u001b[0m\u001b[1;33m)\u001b[0m\u001b[1;33m\u001b[0m\u001b[1;33m\u001b[0m\u001b[0m\n\u001b[0m\u001b[0;32m      2\u001b[0m \u001b[1;31m# ae.summary()\u001b[0m\u001b[1;33m\u001b[0m\u001b[1;33m\u001b[0m\u001b[1;33m\u001b[0m\u001b[0m\n",
      "\u001b[1;32mc:\\users\\mike\\appdata\\local\\programs\\python\\python39\\lib\\site-packages\\tensorflow\\python\\training\\tracking\\base.py\u001b[0m in \u001b[0;36m_method_wrapper\u001b[1;34m(self, *args, **kwargs)\u001b[0m\n\u001b[0;32m    627\u001b[0m     \u001b[0mself\u001b[0m\u001b[1;33m.\u001b[0m\u001b[0m_self_setattr_tracking\u001b[0m \u001b[1;33m=\u001b[0m \u001b[1;32mFalse\u001b[0m  \u001b[1;31m# pylint: disable=protected-access\u001b[0m\u001b[1;33m\u001b[0m\u001b[1;33m\u001b[0m\u001b[0m\n\u001b[0;32m    628\u001b[0m     \u001b[1;32mtry\u001b[0m\u001b[1;33m:\u001b[0m\u001b[1;33m\u001b[0m\u001b[1;33m\u001b[0m\u001b[0m\n\u001b[1;32m--> 629\u001b[1;33m       \u001b[0mresult\u001b[0m \u001b[1;33m=\u001b[0m \u001b[0mmethod\u001b[0m\u001b[1;33m(\u001b[0m\u001b[0mself\u001b[0m\u001b[1;33m,\u001b[0m \u001b[1;33m*\u001b[0m\u001b[0margs\u001b[0m\u001b[1;33m,\u001b[0m \u001b[1;33m**\u001b[0m\u001b[0mkwargs\u001b[0m\u001b[1;33m)\u001b[0m\u001b[1;33m\u001b[0m\u001b[1;33m\u001b[0m\u001b[0m\n\u001b[0m\u001b[0;32m    630\u001b[0m     \u001b[1;32mfinally\u001b[0m\u001b[1;33m:\u001b[0m\u001b[1;33m\u001b[0m\u001b[1;33m\u001b[0m\u001b[0m\n\u001b[0;32m    631\u001b[0m       \u001b[0mself\u001b[0m\u001b[1;33m.\u001b[0m\u001b[0m_self_setattr_tracking\u001b[0m \u001b[1;33m=\u001b[0m \u001b[0mprevious_value\u001b[0m  \u001b[1;31m# pylint: disable=protected-access\u001b[0m\u001b[1;33m\u001b[0m\u001b[1;33m\u001b[0m\u001b[0m\n",
      "\u001b[1;32mc:\\users\\mike\\appdata\\local\\programs\\python\\python39\\lib\\site-packages\\keras\\engine\\functional.py\u001b[0m in \u001b[0;36m__init__\u001b[1;34m(self, inputs, outputs, name, trainable, **kwargs)\u001b[0m\n\u001b[0;32m    144\u001b[0m                   for t in tf.nest.flatten(inputs)]):\n\u001b[0;32m    145\u001b[0m         \u001b[0minputs\u001b[0m\u001b[1;33m,\u001b[0m \u001b[0moutputs\u001b[0m \u001b[1;33m=\u001b[0m \u001b[0mfunctional_utils\u001b[0m\u001b[1;33m.\u001b[0m\u001b[0mclone_graph_nodes\u001b[0m\u001b[1;33m(\u001b[0m\u001b[0minputs\u001b[0m\u001b[1;33m,\u001b[0m \u001b[0moutputs\u001b[0m\u001b[1;33m)\u001b[0m\u001b[1;33m\u001b[0m\u001b[1;33m\u001b[0m\u001b[0m\n\u001b[1;32m--> 146\u001b[1;33m     \u001b[0mself\u001b[0m\u001b[1;33m.\u001b[0m\u001b[0m_init_graph_network\u001b[0m\u001b[1;33m(\u001b[0m\u001b[0minputs\u001b[0m\u001b[1;33m,\u001b[0m \u001b[0moutputs\u001b[0m\u001b[1;33m)\u001b[0m\u001b[1;33m\u001b[0m\u001b[1;33m\u001b[0m\u001b[0m\n\u001b[0m\u001b[0;32m    147\u001b[0m \u001b[1;33m\u001b[0m\u001b[0m\n\u001b[0;32m    148\u001b[0m   \u001b[1;33m@\u001b[0m\u001b[0mtf\u001b[0m\u001b[1;33m.\u001b[0m\u001b[0m__internal__\u001b[0m\u001b[1;33m.\u001b[0m\u001b[0mtracking\u001b[0m\u001b[1;33m.\u001b[0m\u001b[0mno_automatic_dependency_tracking\u001b[0m\u001b[1;33m\u001b[0m\u001b[1;33m\u001b[0m\u001b[0m\n",
      "\u001b[1;32mc:\\users\\mike\\appdata\\local\\programs\\python\\python39\\lib\\site-packages\\tensorflow\\python\\training\\tracking\\base.py\u001b[0m in \u001b[0;36m_method_wrapper\u001b[1;34m(self, *args, **kwargs)\u001b[0m\n\u001b[0;32m    627\u001b[0m     \u001b[0mself\u001b[0m\u001b[1;33m.\u001b[0m\u001b[0m_self_setattr_tracking\u001b[0m \u001b[1;33m=\u001b[0m \u001b[1;32mFalse\u001b[0m  \u001b[1;31m# pylint: disable=protected-access\u001b[0m\u001b[1;33m\u001b[0m\u001b[1;33m\u001b[0m\u001b[0m\n\u001b[0;32m    628\u001b[0m     \u001b[1;32mtry\u001b[0m\u001b[1;33m:\u001b[0m\u001b[1;33m\u001b[0m\u001b[1;33m\u001b[0m\u001b[0m\n\u001b[1;32m--> 629\u001b[1;33m       \u001b[0mresult\u001b[0m \u001b[1;33m=\u001b[0m \u001b[0mmethod\u001b[0m\u001b[1;33m(\u001b[0m\u001b[0mself\u001b[0m\u001b[1;33m,\u001b[0m \u001b[1;33m*\u001b[0m\u001b[0margs\u001b[0m\u001b[1;33m,\u001b[0m \u001b[1;33m**\u001b[0m\u001b[0mkwargs\u001b[0m\u001b[1;33m)\u001b[0m\u001b[1;33m\u001b[0m\u001b[1;33m\u001b[0m\u001b[0m\n\u001b[0m\u001b[0;32m    630\u001b[0m     \u001b[1;32mfinally\u001b[0m\u001b[1;33m:\u001b[0m\u001b[1;33m\u001b[0m\u001b[1;33m\u001b[0m\u001b[0m\n\u001b[0;32m    631\u001b[0m       \u001b[0mself\u001b[0m\u001b[1;33m.\u001b[0m\u001b[0m_self_setattr_tracking\u001b[0m \u001b[1;33m=\u001b[0m \u001b[0mprevious_value\u001b[0m  \u001b[1;31m# pylint: disable=protected-access\u001b[0m\u001b[1;33m\u001b[0m\u001b[1;33m\u001b[0m\u001b[0m\n",
      "\u001b[1;32mc:\\users\\mike\\appdata\\local\\programs\\python\\python39\\lib\\site-packages\\keras\\engine\\functional.py\u001b[0m in \u001b[0;36m_init_graph_network\u001b[1;34m(self, inputs, outputs)\u001b[0m\n\u001b[0;32m    227\u001b[0m \u001b[1;33m\u001b[0m\u001b[0m\n\u001b[0;32m    228\u001b[0m     \u001b[1;31m# Keep track of the network's nodes and layers.\u001b[0m\u001b[1;33m\u001b[0m\u001b[1;33m\u001b[0m\u001b[1;33m\u001b[0m\u001b[0m\n\u001b[1;32m--> 229\u001b[1;33m     nodes, nodes_by_depth, layers, _ = _map_graph_network(\n\u001b[0m\u001b[0;32m    230\u001b[0m         self.inputs, self.outputs)\n\u001b[0;32m    231\u001b[0m     \u001b[0mself\u001b[0m\u001b[1;33m.\u001b[0m\u001b[0m_network_nodes\u001b[0m \u001b[1;33m=\u001b[0m \u001b[0mnodes\u001b[0m\u001b[1;33m\u001b[0m\u001b[1;33m\u001b[0m\u001b[0m\n",
      "\u001b[1;32mc:\\users\\mike\\appdata\\local\\programs\\python\\python39\\lib\\site-packages\\keras\\engine\\functional.py\u001b[0m in \u001b[0;36m_map_graph_network\u001b[1;34m(inputs, outputs)\u001b[0m\n\u001b[0;32m   1034\u001b[0m         \u001b[1;32mfor\u001b[0m \u001b[0mx\u001b[0m \u001b[1;32min\u001b[0m \u001b[0mtf\u001b[0m\u001b[1;33m.\u001b[0m\u001b[0mnest\u001b[0m\u001b[1;33m.\u001b[0m\u001b[0mflatten\u001b[0m\u001b[1;33m(\u001b[0m\u001b[0mnode\u001b[0m\u001b[1;33m.\u001b[0m\u001b[0mkeras_inputs\u001b[0m\u001b[1;33m)\u001b[0m\u001b[1;33m:\u001b[0m\u001b[1;33m\u001b[0m\u001b[1;33m\u001b[0m\u001b[0m\n\u001b[0;32m   1035\u001b[0m           \u001b[1;32mif\u001b[0m \u001b[0mid\u001b[0m\u001b[1;33m(\u001b[0m\u001b[0mx\u001b[0m\u001b[1;33m)\u001b[0m \u001b[1;32mnot\u001b[0m \u001b[1;32min\u001b[0m \u001b[0mcomputable_tensors\u001b[0m\u001b[1;33m:\u001b[0m\u001b[1;33m\u001b[0m\u001b[1;33m\u001b[0m\u001b[0m\n\u001b[1;32m-> 1036\u001b[1;33m             raise ValueError(\n\u001b[0m\u001b[0;32m   1037\u001b[0m                 \u001b[1;34mf'Graph disconnected: cannot obtain value for tensor {x} '\u001b[0m\u001b[1;33m\u001b[0m\u001b[1;33m\u001b[0m\u001b[0m\n\u001b[0;32m   1038\u001b[0m                 \u001b[1;34mf'at layer \"{layer.name}\". The following previous layers '\u001b[0m\u001b[1;33m\u001b[0m\u001b[1;33m\u001b[0m\u001b[0m\n",
      "\u001b[1;31mValueError\u001b[0m: Graph disconnected: cannot obtain value for tensor KerasTensor(type_spec=TensorSpec(shape=(None, 16), dtype=tf.float32, name='input_27'), name='input_27', description=\"created by layer 'input_27'\") at layer \"dense_32\". The following previous layers were accessed without issue: []"
     ]
    }
   ],
   "source": [
    "ae = Model(encoder_inputs, decoder_outputs)\n",
    "# ae.summary()"
   ]
  },
  {
   "cell_type": "code",
   "execution_count": 90,
   "id": "b42ed6ed",
   "metadata": {},
   "outputs": [
    {
     "name": "stdout",
     "output_type": "stream",
     "text": [
      "Epoch 1/30\n",
      "110/110 [==============================] - 13s 104ms/step - loss: 610.3838 - reconstruction_loss: 336.4164 - kl_loss: 170.3160\n",
      "Epoch 2/30\n",
      "110/110 [==============================] - 11s 103ms/step - loss: 444.4853 - reconstruction_loss: 232.0618 - kl_loss: 4.7144\n",
      "Epoch 3/30\n",
      "110/110 [==============================] - 12s 106ms/step - loss: 67.9130 - reconstruction_loss: 170.0642 - kl_loss: 14.2437\n",
      "Epoch 4/30\n",
      "110/110 [==============================] - 11s 102ms/step - loss: 3615.9102 - reconstruction_loss: 26.1427 - kl_loss: 79717.3750\n",
      "Epoch 5/30\n",
      "110/110 [==============================] - 11s 99ms/step - loss: 356.7686 - reconstruction_loss: 207.4111 - kl_loss: 110.0848\n",
      "Epoch 6/30\n",
      "110/110 [==============================] - 10s 95ms/step - loss: 23.4135 - reconstruction_loss: 19.2288 - kl_loss: 3.0192\n",
      "Epoch 7/30\n",
      "110/110 [==============================] - 10s 91ms/step - loss: 19.3386 - reconstruction_loss: 19.8308 - kl_loss: 21.2287\n",
      "Epoch 8/30\n",
      "110/110 [==============================] - 10s 88ms/step - loss: -286.4065 - reconstruction_loss: -247.5565 - kl_loss: 1.6746\n",
      "Epoch 9/30\n",
      "110/110 [==============================] - 9s 85ms/step - loss: -426.0578 - reconstruction_loss: -419.4292 - kl_loss: 2.2496\n",
      "Epoch 10/30\n",
      "110/110 [==============================] - 9s 84ms/step - loss: -369.9214 - reconstruction_loss: -555.1898 - kl_loss: 2.5937\n",
      "Epoch 11/30\n",
      "110/110 [==============================] - 9s 85ms/step - loss: -508.2627 - reconstruction_loss: -605.6241 - kl_loss: 2.0476\n",
      "Epoch 12/30\n",
      "110/110 [==============================] - 10s 92ms/step - loss: -845.9141 - reconstruction_loss: -924.7434 - kl_loss: 3.3791\n",
      "Epoch 13/30\n",
      "110/110 [==============================] - 10s 89ms/step - loss: -958.9306 - reconstruction_loss: -1092.9817 - kl_loss: 4.6732\n",
      "Epoch 14/30\n",
      "110/110 [==============================] - 9s 81ms/step - loss: -1263.8120 - reconstruction_loss: -1310.8073 - kl_loss: 4.7484\n",
      "Epoch 15/30\n",
      "110/110 [==============================] - 9s 82ms/step - loss: -1573.6794 - reconstruction_loss: -1528.6083 - kl_loss: 3.8429\n",
      "Epoch 16/30\n",
      "110/110 [==============================] - 9s 83ms/step - loss: -1649.3804 - reconstruction_loss: -1697.0765 - kl_loss: 4.8317\n",
      "Epoch 17/30\n",
      "110/110 [==============================] - 9s 85ms/step - loss: -1919.5073 - reconstruction_loss: -1933.9138 - kl_loss: 4.1322\n",
      "Epoch 18/30\n",
      "110/110 [==============================] - 10s 86ms/step - loss: -1759.4854 - reconstruction_loss: -1848.7935 - kl_loss: 5.8111\n",
      "Epoch 19/30\n",
      "110/110 [==============================] - 9s 86ms/step - loss: -2051.5864 - reconstruction_loss: -2084.7300 - kl_loss: 6.1140\n",
      "Epoch 20/30\n",
      "110/110 [==============================] - 10s 89ms/step - loss: -1948.9579 - reconstruction_loss: -2026.4991 - kl_loss: 3.1260\n",
      "Epoch 21/30\n",
      "110/110 [==============================] - 10s 92ms/step - loss: -2274.8252 - reconstruction_loss: -2340.8298 - kl_loss: 4.6283\n",
      "Epoch 22/30\n",
      "110/110 [==============================] - 10s 87ms/step - loss: -2381.3923 - reconstruction_loss: -2375.4775 - kl_loss: 5.3635\n",
      "Epoch 23/30\n",
      "110/110 [==============================] - 9s 83ms/step - loss: -2425.4066 - reconstruction_loss: -2355.7478 - kl_loss: 6.3723\n",
      "Epoch 24/30\n",
      " 97/110 [=========================>....] - ETA: 1s - loss: -2668.6015 - reconstruction_loss: -2545.8450 - kl_loss: 7.0914"
     ]
    },
    {
     "ename": "KeyboardInterrupt",
     "evalue": "",
     "output_type": "error",
     "traceback": [
      "\u001b[1;31m---------------------------------------------------------------------------\u001b[0m",
      "\u001b[1;31mKeyboardInterrupt\u001b[0m                         Traceback (most recent call last)",
      "\u001b[1;32m<ipython-input-90-8b016bbf9f0b>\u001b[0m in \u001b[0;36m<module>\u001b[1;34m\u001b[0m\n\u001b[0;32m      2\u001b[0m \u001b[0mcvae\u001b[0m \u001b[1;33m=\u001b[0m \u001b[0mVAE\u001b[0m\u001b[1;33m(\u001b[0m\u001b[0mencoder\u001b[0m\u001b[1;33m,\u001b[0m \u001b[0mdecoder\u001b[0m\u001b[1;33m,\u001b[0m \u001b[0mgamma\u001b[0m\u001b[1;33m=\u001b[0m\u001b[1;36m1.0\u001b[0m\u001b[1;33m)\u001b[0m\u001b[1;33m\u001b[0m\u001b[1;33m\u001b[0m\u001b[0m\n\u001b[0;32m      3\u001b[0m \u001b[0mcvae\u001b[0m\u001b[1;33m.\u001b[0m\u001b[0mcompile\u001b[0m\u001b[1;33m(\u001b[0m\u001b[0moptimizer\u001b[0m\u001b[1;33m=\u001b[0m\u001b[0mtf\u001b[0m\u001b[1;33m.\u001b[0m\u001b[0mkeras\u001b[0m\u001b[1;33m.\u001b[0m\u001b[0moptimizers\u001b[0m\u001b[1;33m.\u001b[0m\u001b[0mAdam\u001b[0m\u001b[1;33m(\u001b[0m\u001b[1;33m)\u001b[0m\u001b[1;33m,\u001b[0m \u001b[0mloss\u001b[0m \u001b[1;33m=\u001b[0m \u001b[1;34m\"MSE\"\u001b[0m\u001b[1;33m)\u001b[0m\u001b[1;33m\u001b[0m\u001b[1;33m\u001b[0m\u001b[0m\n\u001b[1;32m----> 4\u001b[1;33m \u001b[0mcvae\u001b[0m\u001b[1;33m.\u001b[0m\u001b[0mfit\u001b[0m\u001b[1;33m(\u001b[0m\u001b[0mtrain_set_x\u001b[0m\u001b[1;33m,\u001b[0m \u001b[0mepochs\u001b[0m\u001b[1;33m=\u001b[0m\u001b[1;36m30\u001b[0m\u001b[1;33m,\u001b[0m \u001b[0mbatch_size\u001b[0m\u001b[1;33m=\u001b[0m\u001b[1;36m128\u001b[0m\u001b[1;33m)\u001b[0m\u001b[1;33m\u001b[0m\u001b[1;33m\u001b[0m\u001b[0m\n\u001b[0m",
      "\u001b[1;32mc:\\users\\mike\\appdata\\local\\programs\\python\\python39\\lib\\site-packages\\keras\\utils\\traceback_utils.py\u001b[0m in \u001b[0;36merror_handler\u001b[1;34m(*args, **kwargs)\u001b[0m\n\u001b[0;32m     62\u001b[0m     \u001b[0mfiltered_tb\u001b[0m \u001b[1;33m=\u001b[0m \u001b[1;32mNone\u001b[0m\u001b[1;33m\u001b[0m\u001b[1;33m\u001b[0m\u001b[0m\n\u001b[0;32m     63\u001b[0m     \u001b[1;32mtry\u001b[0m\u001b[1;33m:\u001b[0m\u001b[1;33m\u001b[0m\u001b[1;33m\u001b[0m\u001b[0m\n\u001b[1;32m---> 64\u001b[1;33m       \u001b[1;32mreturn\u001b[0m \u001b[0mfn\u001b[0m\u001b[1;33m(\u001b[0m\u001b[1;33m*\u001b[0m\u001b[0margs\u001b[0m\u001b[1;33m,\u001b[0m \u001b[1;33m**\u001b[0m\u001b[0mkwargs\u001b[0m\u001b[1;33m)\u001b[0m\u001b[1;33m\u001b[0m\u001b[1;33m\u001b[0m\u001b[0m\n\u001b[0m\u001b[0;32m     65\u001b[0m     \u001b[1;32mexcept\u001b[0m \u001b[0mException\u001b[0m \u001b[1;32mas\u001b[0m \u001b[0me\u001b[0m\u001b[1;33m:\u001b[0m  \u001b[1;31m# pylint: disable=broad-except\u001b[0m\u001b[1;33m\u001b[0m\u001b[1;33m\u001b[0m\u001b[0m\n\u001b[0;32m     66\u001b[0m       \u001b[0mfiltered_tb\u001b[0m \u001b[1;33m=\u001b[0m \u001b[0m_process_traceback_frames\u001b[0m\u001b[1;33m(\u001b[0m\u001b[0me\u001b[0m\u001b[1;33m.\u001b[0m\u001b[0m__traceback__\u001b[0m\u001b[1;33m)\u001b[0m\u001b[1;33m\u001b[0m\u001b[1;33m\u001b[0m\u001b[0m\n",
      "\u001b[1;32mc:\\users\\mike\\appdata\\local\\programs\\python\\python39\\lib\\site-packages\\keras\\engine\\training.py\u001b[0m in \u001b[0;36mfit\u001b[1;34m(self, x, y, batch_size, epochs, verbose, callbacks, validation_split, validation_data, shuffle, class_weight, sample_weight, initial_epoch, steps_per_epoch, validation_steps, validation_batch_size, validation_freq, max_queue_size, workers, use_multiprocessing)\u001b[0m\n\u001b[0;32m   1382\u001b[0m                 _r=1):\n\u001b[0;32m   1383\u001b[0m               \u001b[0mcallbacks\u001b[0m\u001b[1;33m.\u001b[0m\u001b[0mon_train_batch_begin\u001b[0m\u001b[1;33m(\u001b[0m\u001b[0mstep\u001b[0m\u001b[1;33m)\u001b[0m\u001b[1;33m\u001b[0m\u001b[1;33m\u001b[0m\u001b[0m\n\u001b[1;32m-> 1384\u001b[1;33m               \u001b[0mtmp_logs\u001b[0m \u001b[1;33m=\u001b[0m \u001b[0mself\u001b[0m\u001b[1;33m.\u001b[0m\u001b[0mtrain_function\u001b[0m\u001b[1;33m(\u001b[0m\u001b[0miterator\u001b[0m\u001b[1;33m)\u001b[0m\u001b[1;33m\u001b[0m\u001b[1;33m\u001b[0m\u001b[0m\n\u001b[0m\u001b[0;32m   1385\u001b[0m               \u001b[1;32mif\u001b[0m \u001b[0mdata_handler\u001b[0m\u001b[1;33m.\u001b[0m\u001b[0mshould_sync\u001b[0m\u001b[1;33m:\u001b[0m\u001b[1;33m\u001b[0m\u001b[1;33m\u001b[0m\u001b[0m\n\u001b[0;32m   1386\u001b[0m                 \u001b[0mcontext\u001b[0m\u001b[1;33m.\u001b[0m\u001b[0masync_wait\u001b[0m\u001b[1;33m(\u001b[0m\u001b[1;33m)\u001b[0m\u001b[1;33m\u001b[0m\u001b[1;33m\u001b[0m\u001b[0m\n",
      "\u001b[1;32mc:\\users\\mike\\appdata\\local\\programs\\python\\python39\\lib\\site-packages\\tensorflow\\python\\util\\traceback_utils.py\u001b[0m in \u001b[0;36merror_handler\u001b[1;34m(*args, **kwargs)\u001b[0m\n\u001b[0;32m    148\u001b[0m     \u001b[0mfiltered_tb\u001b[0m \u001b[1;33m=\u001b[0m \u001b[1;32mNone\u001b[0m\u001b[1;33m\u001b[0m\u001b[1;33m\u001b[0m\u001b[0m\n\u001b[0;32m    149\u001b[0m     \u001b[1;32mtry\u001b[0m\u001b[1;33m:\u001b[0m\u001b[1;33m\u001b[0m\u001b[1;33m\u001b[0m\u001b[0m\n\u001b[1;32m--> 150\u001b[1;33m       \u001b[1;32mreturn\u001b[0m \u001b[0mfn\u001b[0m\u001b[1;33m(\u001b[0m\u001b[1;33m*\u001b[0m\u001b[0margs\u001b[0m\u001b[1;33m,\u001b[0m \u001b[1;33m**\u001b[0m\u001b[0mkwargs\u001b[0m\u001b[1;33m)\u001b[0m\u001b[1;33m\u001b[0m\u001b[1;33m\u001b[0m\u001b[0m\n\u001b[0m\u001b[0;32m    151\u001b[0m     \u001b[1;32mexcept\u001b[0m \u001b[0mException\u001b[0m \u001b[1;32mas\u001b[0m \u001b[0me\u001b[0m\u001b[1;33m:\u001b[0m\u001b[1;33m\u001b[0m\u001b[1;33m\u001b[0m\u001b[0m\n\u001b[0;32m    152\u001b[0m       \u001b[0mfiltered_tb\u001b[0m \u001b[1;33m=\u001b[0m \u001b[0m_process_traceback_frames\u001b[0m\u001b[1;33m(\u001b[0m\u001b[0me\u001b[0m\u001b[1;33m.\u001b[0m\u001b[0m__traceback__\u001b[0m\u001b[1;33m)\u001b[0m\u001b[1;33m\u001b[0m\u001b[1;33m\u001b[0m\u001b[0m\n",
      "\u001b[1;32mc:\\users\\mike\\appdata\\local\\programs\\python\\python39\\lib\\site-packages\\tensorflow\\python\\eager\\def_function.py\u001b[0m in \u001b[0;36m__call__\u001b[1;34m(self, *args, **kwds)\u001b[0m\n\u001b[0;32m    913\u001b[0m \u001b[1;33m\u001b[0m\u001b[0m\n\u001b[0;32m    914\u001b[0m       \u001b[1;32mwith\u001b[0m \u001b[0mOptionalXlaContext\u001b[0m\u001b[1;33m(\u001b[0m\u001b[0mself\u001b[0m\u001b[1;33m.\u001b[0m\u001b[0m_jit_compile\u001b[0m\u001b[1;33m)\u001b[0m\u001b[1;33m:\u001b[0m\u001b[1;33m\u001b[0m\u001b[1;33m\u001b[0m\u001b[0m\n\u001b[1;32m--> 915\u001b[1;33m         \u001b[0mresult\u001b[0m \u001b[1;33m=\u001b[0m \u001b[0mself\u001b[0m\u001b[1;33m.\u001b[0m\u001b[0m_call\u001b[0m\u001b[1;33m(\u001b[0m\u001b[1;33m*\u001b[0m\u001b[0margs\u001b[0m\u001b[1;33m,\u001b[0m \u001b[1;33m**\u001b[0m\u001b[0mkwds\u001b[0m\u001b[1;33m)\u001b[0m\u001b[1;33m\u001b[0m\u001b[1;33m\u001b[0m\u001b[0m\n\u001b[0m\u001b[0;32m    916\u001b[0m \u001b[1;33m\u001b[0m\u001b[0m\n\u001b[0;32m    917\u001b[0m       \u001b[0mnew_tracing_count\u001b[0m \u001b[1;33m=\u001b[0m \u001b[0mself\u001b[0m\u001b[1;33m.\u001b[0m\u001b[0mexperimental_get_tracing_count\u001b[0m\u001b[1;33m(\u001b[0m\u001b[1;33m)\u001b[0m\u001b[1;33m\u001b[0m\u001b[1;33m\u001b[0m\u001b[0m\n",
      "\u001b[1;32mc:\\users\\mike\\appdata\\local\\programs\\python\\python39\\lib\\site-packages\\tensorflow\\python\\eager\\def_function.py\u001b[0m in \u001b[0;36m_call\u001b[1;34m(self, *args, **kwds)\u001b[0m\n\u001b[0;32m    945\u001b[0m       \u001b[1;31m# In this case we have created variables on the first call, so we run the\u001b[0m\u001b[1;33m\u001b[0m\u001b[1;33m\u001b[0m\u001b[1;33m\u001b[0m\u001b[0m\n\u001b[0;32m    946\u001b[0m       \u001b[1;31m# defunned version which is guaranteed to never create variables.\u001b[0m\u001b[1;33m\u001b[0m\u001b[1;33m\u001b[0m\u001b[1;33m\u001b[0m\u001b[0m\n\u001b[1;32m--> 947\u001b[1;33m       \u001b[1;32mreturn\u001b[0m \u001b[0mself\u001b[0m\u001b[1;33m.\u001b[0m\u001b[0m_stateless_fn\u001b[0m\u001b[1;33m(\u001b[0m\u001b[1;33m*\u001b[0m\u001b[0margs\u001b[0m\u001b[1;33m,\u001b[0m \u001b[1;33m**\u001b[0m\u001b[0mkwds\u001b[0m\u001b[1;33m)\u001b[0m  \u001b[1;31m# pylint: disable=not-callable\u001b[0m\u001b[1;33m\u001b[0m\u001b[1;33m\u001b[0m\u001b[0m\n\u001b[0m\u001b[0;32m    948\u001b[0m     \u001b[1;32melif\u001b[0m \u001b[0mself\u001b[0m\u001b[1;33m.\u001b[0m\u001b[0m_stateful_fn\u001b[0m \u001b[1;32mis\u001b[0m \u001b[1;32mnot\u001b[0m \u001b[1;32mNone\u001b[0m\u001b[1;33m:\u001b[0m\u001b[1;33m\u001b[0m\u001b[1;33m\u001b[0m\u001b[0m\n\u001b[0;32m    949\u001b[0m       \u001b[1;31m# Release the lock early so that multiple threads can perform the call\u001b[0m\u001b[1;33m\u001b[0m\u001b[1;33m\u001b[0m\u001b[1;33m\u001b[0m\u001b[0m\n",
      "\u001b[1;32mc:\\users\\mike\\appdata\\local\\programs\\python\\python39\\lib\\site-packages\\tensorflow\\python\\eager\\function.py\u001b[0m in \u001b[0;36m__call__\u001b[1;34m(self, *args, **kwargs)\u001b[0m\n\u001b[0;32m   2954\u001b[0m       (graph_function,\n\u001b[0;32m   2955\u001b[0m        filtered_flat_args) = self._maybe_define_function(args, kwargs)\n\u001b[1;32m-> 2956\u001b[1;33m     return graph_function._call_flat(\n\u001b[0m\u001b[0;32m   2957\u001b[0m         filtered_flat_args, captured_inputs=graph_function.captured_inputs)  # pylint: disable=protected-access\n\u001b[0;32m   2958\u001b[0m \u001b[1;33m\u001b[0m\u001b[0m\n",
      "\u001b[1;32mc:\\users\\mike\\appdata\\local\\programs\\python\\python39\\lib\\site-packages\\tensorflow\\python\\eager\\function.py\u001b[0m in \u001b[0;36m_call_flat\u001b[1;34m(self, args, captured_inputs, cancellation_manager)\u001b[0m\n\u001b[0;32m   1851\u001b[0m         and executing_eagerly):\n\u001b[0;32m   1852\u001b[0m       \u001b[1;31m# No tape is watching; skip to running the function.\u001b[0m\u001b[1;33m\u001b[0m\u001b[1;33m\u001b[0m\u001b[1;33m\u001b[0m\u001b[0m\n\u001b[1;32m-> 1853\u001b[1;33m       return self._build_call_outputs(self._inference_function.call(\n\u001b[0m\u001b[0;32m   1854\u001b[0m           ctx, args, cancellation_manager=cancellation_manager))\n\u001b[0;32m   1855\u001b[0m     forward_backward = self._select_forward_and_backward_functions(\n",
      "\u001b[1;32mc:\\users\\mike\\appdata\\local\\programs\\python\\python39\\lib\\site-packages\\tensorflow\\python\\eager\\function.py\u001b[0m in \u001b[0;36mcall\u001b[1;34m(self, ctx, args, cancellation_manager)\u001b[0m\n\u001b[0;32m    497\u001b[0m       \u001b[1;32mwith\u001b[0m \u001b[0m_InterpolateFunctionError\u001b[0m\u001b[1;33m(\u001b[0m\u001b[0mself\u001b[0m\u001b[1;33m)\u001b[0m\u001b[1;33m:\u001b[0m\u001b[1;33m\u001b[0m\u001b[1;33m\u001b[0m\u001b[0m\n\u001b[0;32m    498\u001b[0m         \u001b[1;32mif\u001b[0m \u001b[0mcancellation_manager\u001b[0m \u001b[1;32mis\u001b[0m \u001b[1;32mNone\u001b[0m\u001b[1;33m:\u001b[0m\u001b[1;33m\u001b[0m\u001b[1;33m\u001b[0m\u001b[0m\n\u001b[1;32m--> 499\u001b[1;33m           outputs = execute.execute(\n\u001b[0m\u001b[0;32m    500\u001b[0m               \u001b[0mstr\u001b[0m\u001b[1;33m(\u001b[0m\u001b[0mself\u001b[0m\u001b[1;33m.\u001b[0m\u001b[0msignature\u001b[0m\u001b[1;33m.\u001b[0m\u001b[0mname\u001b[0m\u001b[1;33m)\u001b[0m\u001b[1;33m,\u001b[0m\u001b[1;33m\u001b[0m\u001b[1;33m\u001b[0m\u001b[0m\n\u001b[0;32m    501\u001b[0m               \u001b[0mnum_outputs\u001b[0m\u001b[1;33m=\u001b[0m\u001b[0mself\u001b[0m\u001b[1;33m.\u001b[0m\u001b[0m_num_outputs\u001b[0m\u001b[1;33m,\u001b[0m\u001b[1;33m\u001b[0m\u001b[1;33m\u001b[0m\u001b[0m\n",
      "\u001b[1;32mc:\\users\\mike\\appdata\\local\\programs\\python\\python39\\lib\\site-packages\\tensorflow\\python\\eager\\execute.py\u001b[0m in \u001b[0;36mquick_execute\u001b[1;34m(op_name, num_outputs, inputs, attrs, ctx, name)\u001b[0m\n\u001b[0;32m     52\u001b[0m   \u001b[1;32mtry\u001b[0m\u001b[1;33m:\u001b[0m\u001b[1;33m\u001b[0m\u001b[1;33m\u001b[0m\u001b[0m\n\u001b[0;32m     53\u001b[0m     \u001b[0mctx\u001b[0m\u001b[1;33m.\u001b[0m\u001b[0mensure_initialized\u001b[0m\u001b[1;33m(\u001b[0m\u001b[1;33m)\u001b[0m\u001b[1;33m\u001b[0m\u001b[1;33m\u001b[0m\u001b[0m\n\u001b[1;32m---> 54\u001b[1;33m     tensors = pywrap_tfe.TFE_Py_Execute(ctx._handle, device_name, op_name,\n\u001b[0m\u001b[0;32m     55\u001b[0m                                         inputs, attrs, num_outputs)\n\u001b[0;32m     56\u001b[0m   \u001b[1;32mexcept\u001b[0m \u001b[0mcore\u001b[0m\u001b[1;33m.\u001b[0m\u001b[0m_NotOkStatusException\u001b[0m \u001b[1;32mas\u001b[0m \u001b[0me\u001b[0m\u001b[1;33m:\u001b[0m\u001b[1;33m\u001b[0m\u001b[1;33m\u001b[0m\u001b[0m\n",
      "\u001b[1;31mKeyboardInterrupt\u001b[0m: "
     ]
    }
   ],
   "source": [
    "# Create and train model\n",
    "# cvae = VAE(encoder, decoder, gamma=1.0)\n",
    "cvae.compile(optimizer=tf.keras.optimizers.Adam(), loss = \"MSE\")\n",
    "cvae.fit(train_set_x, epochs=30, batch_size=128)"
   ]
  },
  {
   "cell_type": "markdown",
   "id": "cfa7e457",
   "metadata": {},
   "source": [
    "### Regular AE"
   ]
  },
  {
   "cell_type": "code",
   "execution_count": 94,
   "id": "54f99c20",
   "metadata": {
    "scrolled": false
   },
   "outputs": [
    {
     "name": "stdout",
     "output_type": "stream",
     "text": [
      "Model: \"encoder\"\n",
      "_________________________________________________________________\n",
      " Layer (type)                Output Shape              Param #   \n",
      "=================================================================\n",
      " input_25 (InputLayer)       [(None, 300, 12)]         0         \n",
      "                                                                 \n",
      " conv1d_24 (Conv1D)          (None, 300, 32)           1184      \n",
      "                                                                 \n",
      " max_pooling1d_18 (MaxPoolin  (None, 150, 32)          0         \n",
      " g1D)                                                            \n",
      "                                                                 \n",
      " last_conv (Conv1D)          (None, 150, 64)           6208      \n",
      "                                                                 \n",
      " max_pooling1d_19 (MaxPoolin  (None, 75, 64)           0         \n",
      " g1D)                                                            \n",
      "                                                                 \n",
      " flatten_16 (Flatten)        (None, 4800)              0         \n",
      "                                                                 \n",
      " dense_30 (Dense)            (None, 16)                76816     \n",
      "                                                                 \n",
      "=================================================================\n",
      "Total params: 84,208\n",
      "Trainable params: 84,208\n",
      "Non-trainable params: 0\n",
      "_________________________________________________________________\n"
     ]
    }
   ],
   "source": [
    "# Encoder\n",
    "encoder_inputs = Input(shape=(train_set_x.shape[1],train_set_x.shape[2]))\n",
    "x = Conv1D(32, 3, activation=\"relu\", strides=1, padding=\"same\")(encoder_inputs)\n",
    "x = MaxPool1D()(x)\n",
    "x = Conv1D(64, 3, activation=\"relu\", strides=1, padding=\"same\", name = \"last_conv\")(x)\n",
    "x = MaxPool1D()(x)\n",
    "x = Flatten()(x)\n",
    "x = Dense(16, activation=\"relu\")(x)\n",
    "\n",
    "\n",
    "encoder = Model(encoder_inputs, x, name=\"encoder\")\n",
    "encoder.summary()"
   ]
  },
  {
   "cell_type": "code",
   "execution_count": 95,
   "id": "6d01d561",
   "metadata": {},
   "outputs": [],
   "source": [
    "# Automatically get values from the previous layer to reshape\n",
    "last_conv = encoder.get_layer(\"last_conv\").get_output_at(0).get_shape().as_list()[1:]\n",
    "last_conv_dim = np.array(last_conv).cumprod()[-1]"
   ]
  },
  {
   "cell_type": "code",
   "execution_count": 97,
   "id": "f95d2be5",
   "metadata": {},
   "outputs": [
    {
     "name": "stdout",
     "output_type": "stream",
     "text": [
      "Model: \"decoder\"\n",
      "_________________________________________________________________\n",
      " Layer (type)                Output Shape              Param #   \n",
      "=================================================================\n",
      " input_27 (InputLayer)       [(None, 16)]              0         \n",
      "                                                                 \n",
      " dense_32 (Dense)            (None, 9600)              163200    \n",
      "                                                                 \n",
      " reshape_8 (Reshape)         (None, 150, 64)           0         \n",
      "                                                                 \n",
      " conv1d_transpose_21 (Conv1D  (None, 150, 64)          4160      \n",
      " Transpose)                                                      \n",
      "                                                                 \n",
      " conv1d_transpose_22 (Conv1D  (None, 300, 32)          2080      \n",
      " Transpose)                                                      \n",
      "                                                                 \n",
      " conv1d_transpose_23 (Conv1D  (None, 300, 12)          1164      \n",
      " Transpose)                                                      \n",
      "                                                                 \n",
      "=================================================================\n",
      "Total params: 170,604\n",
      "Trainable params: 170,604\n",
      "Non-trainable params: 0\n",
      "_________________________________________________________________\n"
     ]
    }
   ],
   "source": [
    "# Decoder\n",
    "latent_inputs = Input(shape=(16,))\n",
    "x = Dense(last_conv_dim, activation=\"relu\")(latent_inputs)\n",
    "x = Reshape(last_conv)(x)\n",
    "x = Conv1DTranspose(64, 1, activation=\"relu\", strides=1, padding=\"same\")(x)\n",
    "x = Conv1DTranspose(32, 1, activation=\"relu\", strides=2, padding=\"same\")(x)\n",
    "decoder_outputs = Conv1DTranspose(12, 3, activation=\"linear\", padding=\"same\")(x)\n",
    "\n",
    "decoder = Model(latent_inputs, decoder_outputs, name=\"decoder\")\n",
    "decoder.summary()"
   ]
  },
  {
   "cell_type": "code",
   "execution_count": null,
   "id": "7f3e18dc",
   "metadata": {},
   "outputs": [
    {
     "name": "stdout",
     "output_type": "stream",
     "text": [
      "Epoch 1/30\n",
      "110/110 [==============================] - 13s 104ms/step - loss: 610.3838 - reconstruction_loss: 336.4164 - kl_loss: 170.3160\n",
      "Epoch 2/30\n",
      "110/110 [==============================] - 11s 103ms/step - loss: 444.4853 - reconstruction_loss: 232.0618 - kl_loss: 4.7144\n",
      "Epoch 3/30\n",
      "110/110 [==============================] - 12s 106ms/step - loss: 67.9130 - reconstruction_loss: 170.0642 - kl_loss: 14.2437\n",
      "Epoch 4/30\n",
      "110/110 [==============================] - 11s 102ms/step - loss: 3615.9102 - reconstruction_loss: 26.1427 - kl_loss: 79717.3750\n",
      "Epoch 5/30\n",
      "110/110 [==============================] - 11s 99ms/step - loss: 356.7686 - reconstruction_loss: 207.4111 - kl_loss: 110.0848\n",
      "Epoch 6/30\n",
      "110/110 [==============================] - 10s 95ms/step - loss: 23.4135 - reconstruction_loss: 19.2288 - kl_loss: 3.0192\n",
      "Epoch 7/30\n",
      "110/110 [==============================] - 10s 91ms/step - loss: 19.3386 - reconstruction_loss: 19.8308 - kl_loss: 21.2287\n",
      "Epoch 8/30\n",
      "110/110 [==============================] - 10s 88ms/step - loss: -286.4065 - reconstruction_loss: -247.5565 - kl_loss: 1.6746\n",
      "Epoch 9/30\n",
      "110/110 [==============================] - 9s 85ms/step - loss: -426.0578 - reconstruction_loss: -419.4292 - kl_loss: 2.2496\n",
      "Epoch 10/30\n",
      "110/110 [==============================] - 9s 84ms/step - loss: -369.9214 - reconstruction_loss: -555.1898 - kl_loss: 2.5937\n",
      "Epoch 11/30\n",
      "110/110 [==============================] - 9s 85ms/step - loss: -508.2627 - reconstruction_loss: -605.6241 - kl_loss: 2.0476\n",
      "Epoch 12/30\n",
      "110/110 [==============================] - 10s 92ms/step - loss: -845.9141 - reconstruction_loss: -924.7434 - kl_loss: 3.3791\n",
      "Epoch 13/30\n",
      "110/110 [==============================] - 10s 89ms/step - loss: -958.9306 - reconstruction_loss: -1092.9817 - kl_loss: 4.6732\n",
      "Epoch 14/30\n",
      "110/110 [==============================] - 9s 81ms/step - loss: -1263.8120 - reconstruction_loss: -1310.8073 - kl_loss: 4.7484\n",
      "Epoch 15/30\n",
      "110/110 [==============================] - 9s 82ms/step - loss: -1573.6794 - reconstruction_loss: -1528.6083 - kl_loss: 3.8429\n",
      "Epoch 16/30\n",
      "110/110 [==============================] - 9s 83ms/step - loss: -1649.3804 - reconstruction_loss: -1697.0765 - kl_loss: 4.8317\n",
      "Epoch 17/30\n",
      "110/110 [==============================] - 9s 85ms/step - loss: -1919.5073 - reconstruction_loss: -1933.9138 - kl_loss: 4.1322\n",
      "Epoch 18/30\n",
      "110/110 [==============================] - 10s 86ms/step - loss: -1759.4854 - reconstruction_loss: -1848.7935 - kl_loss: 5.8111\n",
      "Epoch 19/30\n",
      "110/110 [==============================] - 9s 86ms/step - loss: -2051.5864 - reconstruction_loss: -2084.7300 - kl_loss: 6.1140\n",
      "Epoch 20/30\n",
      "110/110 [==============================] - 10s 89ms/step - loss: -1948.9579 - reconstruction_loss: -2026.4991 - kl_loss: 3.1260\n",
      "Epoch 21/30\n",
      " 19/110 [====>.........................] - ETA: 8s - loss: -1995.0361 - reconstruction_loss: -2111.9675 - kl_loss: 4.4075"
     ]
    }
   ],
   "source": [
    "# Create and train model\n",
    "cvae = AE(encoder, decoder, gamma=1.0)\n",
    "cvae.compile(optimizer=tf.keras.optimizers.Adam(), loss = \"MSE\")\n",
    "cvae.fit(train_set_x, epochs=30, batch_size=128)"
   ]
  },
  {
   "cell_type": "code",
   "execution_count": 112,
   "id": "a0e4b630",
   "metadata": {
    "scrolled": false
   },
   "outputs": [
    {
     "name": "stdout",
     "output_type": "stream",
     "text": [
      "Model: \"decoder\"\n",
      "_________________________________________________________________\n",
      " Layer (type)                Output Shape              Param #   \n",
      "=================================================================\n",
      " input_32 (InputLayer)       [(None, 300, 12)]         0         \n",
      "                                                                 \n",
      " conv1d_29 (Conv1D)          (None, 300, 32)           1184      \n",
      "                                                                 \n",
      " max_pooling1d_28 (MaxPoolin  (None, 150, 32)          0         \n",
      " g1D)                                                            \n",
      "                                                                 \n",
      " last_conv (Conv1D)          (None, 150, 64)           6208      \n",
      "                                                                 \n",
      " max_pooling1d_29 (MaxPoolin  (None, 75, 64)           0         \n",
      " g1D)                                                            \n",
      "                                                                 \n",
      " flatten_21 (Flatten)        (None, 4800)              0         \n",
      "                                                                 \n",
      " dense_40 (Dense)            (None, 16)                76816     \n",
      "                                                                 \n",
      " dense_41 (Dense)            (None, 4800)              81600     \n",
      "                                                                 \n",
      " reshape_13 (Reshape)        (None, 75, 64)            0         \n",
      "                                                                 \n",
      " conv1d_transpose_33 (Conv1D  (None, 150, 64)          4160      \n",
      " Transpose)                                                      \n",
      "                                                                 \n",
      " conv1d_transpose_34 (Conv1D  (None, 300, 32)          2080      \n",
      " Transpose)                                                      \n",
      "                                                                 \n",
      " conv1d_transpose_35 (Conv1D  (None, 300, 12)          1164      \n",
      " Transpose)                                                      \n",
      "                                                                 \n",
      "=================================================================\n",
      "Total params: 173,212\n",
      "Trainable params: 173,212\n",
      "Non-trainable params: 0\n",
      "_________________________________________________________________\n"
     ]
    }
   ],
   "source": [
    "# Encoder\n",
    "encoder_inputs = Input(shape=(train_set_x.shape[1],train_set_x.shape[2]))\n",
    "x = Conv1D(32, 3, activation=\"relu\", strides=1, padding=\"same\")(encoder_inputs)\n",
    "x = MaxPool1D()(x)\n",
    "x = Conv1D(64, 3, activation=\"relu\", strides=1, padding=\"same\", name = \"last_conv\")(x)\n",
    "x = MaxPool1D()(x)\n",
    "x = Flatten()(x)\n",
    "\n",
    "# # Automatically get values from the previous layer to reshape\n",
    "# last_conv = encoder.get_layer(\"last_conv\").get_output_at(0).get_shape().as_list()[1:]\n",
    "# last_conv_dim = np.array(last_conv).cumprod()[-1]\n",
    "\n",
    "l = Dense(16, activation=\"relu\")(x)\n",
    "\n",
    "x = Dense(75*64, activation=\"relu\")(l)\n",
    "x = Reshape((75,64))(x)\n",
    "x = Conv1DTranspose(64, 1, activation=\"relu\", strides=2, padding=\"same\")(x)\n",
    "x = Conv1DTranspose(32, 1, activation=\"relu\", strides=2, padding=\"same\")(x)\n",
    "decoder_outputs = Conv1DTranspose(12, 3, activation=\"linear\", padding=\"same\")(x)\n",
    "\n",
    "ae = Model(encoder_inputs, decoder_outputs, name=\"decoder\")\n",
    "ae.summary()"
   ]
  },
  {
   "cell_type": "markdown",
   "id": "dd1d9324",
   "metadata": {},
   "source": [
    "# Meter set de validacion"
   ]
  },
  {
   "cell_type": "code",
   "execution_count": 114,
   "id": "f0171b90",
   "metadata": {
    "scrolled": true
   },
   "outputs": [
    {
     "name": "stdout",
     "output_type": "stream",
     "text": [
      "Epoch 1/30\n",
      "110/110 [==============================] - 9s 75ms/step - loss: 0.0600\n",
      "Epoch 2/30\n",
      "110/110 [==============================] - 8s 75ms/step - loss: 0.0542\n",
      "Epoch 3/30\n",
      "110/110 [==============================] - 8s 76ms/step - loss: 0.0517\n",
      "Epoch 4/30\n",
      "110/110 [==============================] - 10s 89ms/step - loss: 0.0501\n",
      "Epoch 5/30\n",
      "110/110 [==============================] - 10s 88ms/step - loss: 0.0491\n",
      "Epoch 6/30\n",
      "110/110 [==============================] - 10s 92ms/step - loss: 0.0476\n",
      "Epoch 7/30\n",
      "110/110 [==============================] - 10s 94ms/step - loss: 0.0477\n",
      "Epoch 8/30\n",
      "110/110 [==============================] - 11s 102ms/step - loss: 0.0457\n",
      "Epoch 9/30\n",
      "110/110 [==============================] - 11s 100ms/step - loss: 0.0448\n",
      "Epoch 10/30\n",
      "110/110 [==============================] - 10s 95ms/step - loss: 0.0450\n",
      "Epoch 11/30\n",
      "110/110 [==============================] - 10s 94ms/step - loss: 0.0436\n",
      "Epoch 12/30\n",
      "110/110 [==============================] - 10s 94ms/step - loss: 0.0424\n",
      "Epoch 13/30\n",
      "110/110 [==============================] - 10s 88ms/step - loss: 0.0430\n",
      "Epoch 14/30\n",
      "110/110 [==============================] - 9s 84ms/step - loss: 0.0413\n",
      "Epoch 15/30\n",
      "110/110 [==============================] - 9s 84ms/step - loss: 0.0412\n",
      "Epoch 16/30\n",
      "110/110 [==============================] - 9s 84ms/step - loss: 0.0410\n",
      "Epoch 17/30\n",
      "110/110 [==============================] - 10s 87ms/step - loss: 0.0413\n",
      "Epoch 18/30\n",
      "110/110 [==============================] - 9s 84ms/step - loss: 0.0404\n",
      "Epoch 19/30\n",
      "110/110 [==============================] - 9s 84ms/step - loss: 0.0394\n",
      "Epoch 20/30\n",
      "110/110 [==============================] - 9s 83ms/step - loss: 0.0392\n",
      "Epoch 21/30\n",
      "110/110 [==============================] - 9s 84ms/step - loss: 0.0390\n",
      "Epoch 22/30\n",
      "110/110 [==============================] - 9s 84ms/step - loss: 0.0393\n",
      "Epoch 23/30\n",
      "110/110 [==============================] - 9s 84ms/step - loss: 0.0396\n",
      "Epoch 24/30\n",
      "110/110 [==============================] - 9s 85ms/step - loss: 0.0405\n",
      "Epoch 25/30\n",
      "110/110 [==============================] - 9s 85ms/step - loss: 0.0394\n",
      "Epoch 26/30\n",
      "110/110 [==============================] - 10s 88ms/step - loss: 0.0382\n",
      "Epoch 27/30\n",
      "110/110 [==============================] - 9s 86ms/step - loss: 0.0381\n",
      "Epoch 28/30\n",
      "110/110 [==============================] - 9s 86ms/step - loss: 0.0387\n",
      "Epoch 29/30\n",
      "110/110 [==============================] - 10s 87ms/step - loss: 0.0400\n",
      "Epoch 30/30\n",
      "110/110 [==============================] - 10s 94ms/step - loss: 0.0379\n"
     ]
    },
    {
     "data": {
      "text/plain": [
       "<keras.callbacks.History at 0x1d961933e50>"
      ]
     },
     "execution_count": 114,
     "metadata": {},
     "output_type": "execute_result"
    }
   ],
   "source": [
    "# Create and train model\n",
    "ae.compile(optimizer=tf.keras.optimizers.Adam(), loss = \"MSE\")\n",
    "ae.fit(train_set_x, train_set_x, epochs=30, batch_size=128)"
   ]
  }
 ],
 "metadata": {
  "kernelspec": {
   "display_name": "Python 3",
   "language": "python",
   "name": "python3"
  },
  "language_info": {
   "codemirror_mode": {
    "name": "ipython",
    "version": 3
   },
   "file_extension": ".py",
   "mimetype": "text/x-python",
   "name": "python",
   "nbconvert_exporter": "python",
   "pygments_lexer": "ipython3",
   "version": "3.9.5"
  }
 },
 "nbformat": 4,
 "nbformat_minor": 5
}
